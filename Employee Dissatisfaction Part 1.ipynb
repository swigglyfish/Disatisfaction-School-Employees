{
 "cells": [
  {
   "cell_type": "markdown",
   "metadata": {},
   "source": [
    "# Dissatisfaction Levels of Former School Employees - Part 1\n",
    "\n",
    "In this exercise, I will be cleaning two exit surveys from employees of the Department of Education, Training, and Employment (DETE) and the Technical and Further Education (TAFE) in Queensland, Australia and aftwards be combining them into a single dataset. You can download the [DETE](http://opendata.dete.qld.gov.au/human-resources/dete-exit-survey-january-2014.csv) exit survey and the [TAFE](http://opendata.dete.qld.gov.au/human-resources/tafe-employee-exit-survey-access-database-december-2013.csv) survey by clicking the links."
   ]
  },
  {
   "cell_type": "markdown",
   "metadata": {},
   "source": [
    "## 1. Reading the Dataset and Removing Unnecessary Columns\n",
    "\n",
    "First I will import the appropriate modules, read in the dataset, and take a look at the arrangement of data as well as determine which columns are likley to be pertinent to my investigation. Afterwards, I will be better suited to cleaning the dataset to best serve my goals."
   ]
  },
  {
   "cell_type": "code",
   "execution_count": 1,
   "metadata": {},
   "outputs": [],
   "source": [
    "# Importing Necessary Libraries\n",
    "import pandas as pd\n",
    "import numpy as np\n",
    "import matplotlib.pyplot as plt\n",
    "\n",
    "dete_survey = pd.read_csv(\"dete_survey.csv\", encoding=\"cp1252\", na_values=\"Not Stated\")\n",
    "tafe_survey = pd.read_csv(\"tafe_survey.csv\", encoding=\"cp1252\")"
   ]
  },
  {
   "cell_type": "markdown",
   "metadata": {},
   "source": [
    "### a) First Look at the Dataset\n",
    "\n",
    "Now that I have imported the data and read in the DETE and TAFE surveys, I will take a look at the columns in each of the datsets to determine which ones are likley to be useful for my investigation."
   ]
  },
  {
   "cell_type": "code",
   "execution_count": 2,
   "metadata": {},
   "outputs": [
    {
     "data": {
      "text/plain": [
       "Index(['ID', 'SeparationType', 'Cease Date', 'DETE Start Date',\n",
       "       'Role Start Date', 'Position', 'Classification', 'Region',\n",
       "       'Business Unit', 'Employment Status', 'Career move to public sector',\n",
       "       'Career move to private sector', 'Interpersonal conflicts',\n",
       "       'Job dissatisfaction', 'Dissatisfaction with the department',\n",
       "       'Physical work environment', 'Lack of recognition',\n",
       "       'Lack of job security', 'Work location', 'Employment conditions',\n",
       "       'Maternity/family', 'Relocation', 'Study/Travel', 'Ill Health',\n",
       "       'Traumatic incident', 'Work life balance', 'Workload',\n",
       "       'None of the above', 'Professional Development',\n",
       "       'Opportunities for promotion', 'Staff morale', 'Workplace issue',\n",
       "       'Physical environment', 'Worklife balance',\n",
       "       'Stress and pressure support', 'Performance of supervisor',\n",
       "       'Peer support', 'Initiative', 'Skills', 'Coach', 'Career Aspirations',\n",
       "       'Feedback', 'Further PD', 'Communication', 'My say', 'Information',\n",
       "       'Kept informed', 'Wellness programs', 'Health & Safety', 'Gender',\n",
       "       'Age', 'Aboriginal', 'Torres Strait', 'South Sea', 'Disability',\n",
       "       'NESB'],\n",
       "      dtype='object')"
      ]
     },
     "execution_count": 2,
     "metadata": {},
     "output_type": "execute_result"
    }
   ],
   "source": [
    "dete_survey.columns"
   ]
  },
  {
   "cell_type": "markdown",
   "metadata": {},
   "source": [
    "The most important columns in the DETE dataset are:\n",
    "- SeparationType = manner in which the employee left the school district\n",
    "- DETE Start Date, Role Start Date = could be used to calculate tenure, i.e. the length of time in which the employee worked for the school district\n",
    "- Position = what role the employee had for the school district\n",
    "- Employment Status = if the employee was full time, part time, or other\n",
    "- Career move to public sector to Worklife balance = if the employee left the school district voluntarily, these series of columns that indicate the reason as to why\n",
    "- Age = age of the employee at the time of leaving\n",
    "\n",
    "Next, I will take a look at the columns in the TAFE dataset."
   ]
  },
  {
   "cell_type": "code",
   "execution_count": 3,
   "metadata": {},
   "outputs": [
    {
     "data": {
      "text/plain": [
       "Index(['Record ID', 'Institute', 'WorkArea', 'CESSATION YEAR',\n",
       "       'Reason for ceasing employment',\n",
       "       'Contributing Factors. Career Move - Public Sector ',\n",
       "       'Contributing Factors. Career Move - Private Sector ',\n",
       "       'Contributing Factors. Career Move - Self-employment',\n",
       "       'Contributing Factors. Ill Health',\n",
       "       'Contributing Factors. Maternity/Family',\n",
       "       'Contributing Factors. Dissatisfaction',\n",
       "       'Contributing Factors. Job Dissatisfaction',\n",
       "       'Contributing Factors. Interpersonal Conflict',\n",
       "       'Contributing Factors. Study', 'Contributing Factors. Travel',\n",
       "       'Contributing Factors. Other', 'Contributing Factors. NONE',\n",
       "       'Main Factor.     Which of these was the main factor for leaving?',\n",
       "       'InstituteViews. Topic:1. I feel the senior leadership had a clear vision and direction',\n",
       "       'InstituteViews. Topic:2. I was given access to skills training to help me do my job better',\n",
       "       'InstituteViews. Topic:3. I was given adequate opportunities for personal development',\n",
       "       'InstituteViews. Topic:4. I was given adequate opportunities for promotion within %Institute]Q25LBL%',\n",
       "       'InstituteViews. Topic:5. I felt the salary for the job was right for the responsibilities I had',\n",
       "       'InstituteViews. Topic:6. The organisation recognised when staff did good work',\n",
       "       'InstituteViews. Topic:7. Management was generally supportive of me',\n",
       "       'InstituteViews. Topic:8. Management was generally supportive of my team',\n",
       "       'InstituteViews. Topic:9. I was kept informed of the changes in the organisation which would affect me',\n",
       "       'InstituteViews. Topic:10. Staff morale was positive within the Institute',\n",
       "       'InstituteViews. Topic:11. If I had a workplace issue it was dealt with quickly',\n",
       "       'InstituteViews. Topic:12. If I had a workplace issue it was dealt with efficiently',\n",
       "       'InstituteViews. Topic:13. If I had a workplace issue it was dealt with discreetly',\n",
       "       'WorkUnitViews. Topic:14. I was satisfied with the quality of the management and supervision within my work unit',\n",
       "       'WorkUnitViews. Topic:15. I worked well with my colleagues',\n",
       "       'WorkUnitViews. Topic:16. My job was challenging and interesting',\n",
       "       'WorkUnitViews. Topic:17. I was encouraged to use my initiative in the course of my work',\n",
       "       'WorkUnitViews. Topic:18. I had sufficient contact with other people in my job',\n",
       "       'WorkUnitViews. Topic:19. I was given adequate support and co-operation by my peers to enable me to do my job',\n",
       "       'WorkUnitViews. Topic:20. I was able to use the full range of my skills in my job',\n",
       "       'WorkUnitViews. Topic:21. I was able to use the full range of my abilities in my job. ; Category:Level of Agreement; Question:YOUR VIEWS ABOUT YOUR WORK UNIT]',\n",
       "       'WorkUnitViews. Topic:22. I was able to use the full range of my knowledge in my job',\n",
       "       'WorkUnitViews. Topic:23. My job provided sufficient variety',\n",
       "       'WorkUnitViews. Topic:24. I was able to cope with the level of stress and pressure in my job',\n",
       "       'WorkUnitViews. Topic:25. My job allowed me to balance the demands of work and family to my satisfaction',\n",
       "       'WorkUnitViews. Topic:26. My supervisor gave me adequate personal recognition and feedback on my performance',\n",
       "       'WorkUnitViews. Topic:27. My working environment was satisfactory e.g. sufficient space, good lighting, suitable seating and working area',\n",
       "       'WorkUnitViews. Topic:28. I was given the opportunity to mentor and coach others in order for me to pass on my skills and knowledge prior to my cessation date',\n",
       "       'WorkUnitViews. Topic:29. There was adequate communication between staff in my unit',\n",
       "       'WorkUnitViews. Topic:30. Staff morale was positive within my work unit',\n",
       "       'Induction. Did you undertake Workplace Induction?',\n",
       "       'InductionInfo. Topic:Did you undertake a Corporate Induction?',\n",
       "       'InductionInfo. Topic:Did you undertake a Institute Induction?',\n",
       "       'InductionInfo. Topic: Did you undertake Team Induction?',\n",
       "       'InductionInfo. Face to Face Topic:Did you undertake a Corporate Induction; Category:How it was conducted?',\n",
       "       'InductionInfo. On-line Topic:Did you undertake a Corporate Induction; Category:How it was conducted?',\n",
       "       'InductionInfo. Induction Manual Topic:Did you undertake a Corporate Induction?',\n",
       "       'InductionInfo. Face to Face Topic:Did you undertake a Institute Induction?',\n",
       "       'InductionInfo. On-line Topic:Did you undertake a Institute Induction?',\n",
       "       'InductionInfo. Induction Manual Topic:Did you undertake a Institute Induction?',\n",
       "       'InductionInfo. Face to Face Topic: Did you undertake Team Induction; Category?',\n",
       "       'InductionInfo. On-line Topic: Did you undertake Team Induction?process you undertook and how it was conducted.]',\n",
       "       'InductionInfo. Induction Manual Topic: Did you undertake Team Induction?',\n",
       "       'Workplace. Topic:Did you and your Manager develop a Performance and Professional Development Plan (PPDP)?',\n",
       "       'Workplace. Topic:Does your workplace promote a work culture free from all forms of unlawful discrimination?',\n",
       "       'Workplace. Topic:Does your workplace promote and practice the principles of employment equity?',\n",
       "       'Workplace. Topic:Does your workplace value the diversity of its employees?',\n",
       "       'Workplace. Topic:Would you recommend the Institute as an employer to others?',\n",
       "       'Gender.     What is your Gender?', 'CurrentAge.     Current Age',\n",
       "       'Employment Type.     Employment Type',\n",
       "       'Classification.     Classification',\n",
       "       'LengthofServiceOverall. Overall Length of Service at Institute (in years)',\n",
       "       'LengthofServiceCurrent. Length of Service at current workplace (in years)'],\n",
       "      dtype='object')"
      ]
     },
     "execution_count": 3,
     "metadata": {},
     "output_type": "execute_result"
    }
   ],
   "source": [
    "tafe_survey.columns"
   ]
  },
  {
   "cell_type": "markdown",
   "metadata": {},
   "source": [
    "The columns that look the most important in the TAFE dataset are:\n",
    "- Reason for ceasing employment = manner in which the employee left the company\n",
    "- Contributing Factors = if the employee left voluntarily, series of columns that indicate the reason as to why\n",
    "- CurrentAge.     Current Age = age of the employee at time of leaving\n",
    "- Employment Type.     Employment Type = full time, part time, or other\n",
    "- Classification.     Classification = what role the employee had in the school district\n",
    "- LengthofServiceOverall. Overall Length of Service at Institute (in years) = would indicate the tenure of the employee\n",
    "\n",
    "In both the DETE and TAFE dataset, there are a lot of columns that will not be useful to analyze, so I will remove them from the datasets."
   ]
  },
  {
   "cell_type": "markdown",
   "metadata": {},
   "source": [
    "### b) Removing Unecessary Columns\n",
    "\n",
    "Columns 28-48 from the DETE dataset and 17-65 from the TAFE dataset are very unlikely to be useful to my analysis. Removing these columns will make it much easier to read and analyze the data. I will create two data subsets, dete_survey_updated and tafe_survey_updated, that do not contain these undesireable columns. I will use these subsets for the remainder of my analysis."
   ]
  },
  {
   "cell_type": "code",
   "execution_count": 4,
   "metadata": {},
   "outputs": [],
   "source": [
    "dete_survey_updated = dete_survey.drop(dete_survey.columns[28:49], axis=1)"
   ]
  },
  {
   "cell_type": "code",
   "execution_count": 5,
   "metadata": {},
   "outputs": [],
   "source": [
    "tafe_survey_updated = tafe_survey.drop(tafe_survey.columns[17:66], axis=1)"
   ]
  },
  {
   "cell_type": "code",
   "execution_count": 6,
   "metadata": {},
   "outputs": [
    {
     "name": "stdout",
     "output_type": "stream",
     "text": [
      "Index(['ID', 'SeparationType', 'Cease Date', 'DETE Start Date',\n",
      "       'Role Start Date', 'Position', 'Classification', 'Region',\n",
      "       'Business Unit', 'Employment Status', 'Career move to public sector',\n",
      "       'Career move to private sector', 'Interpersonal conflicts',\n",
      "       'Job dissatisfaction', 'Dissatisfaction with the department',\n",
      "       'Physical work environment', 'Lack of recognition',\n",
      "       'Lack of job security', 'Work location', 'Employment conditions',\n",
      "       'Maternity/family', 'Relocation', 'Study/Travel', 'Ill Health',\n",
      "       'Traumatic incident', 'Work life balance', 'Workload',\n",
      "       'None of the above', 'Gender', 'Age', 'Aboriginal', 'Torres Strait',\n",
      "       'South Sea', 'Disability', 'NESB'],\n",
      "      dtype='object')\n",
      "\n",
      "Index(['Record ID', 'Institute', 'WorkArea', 'CESSATION YEAR',\n",
      "       'Reason for ceasing employment',\n",
      "       'Contributing Factors. Career Move - Public Sector ',\n",
      "       'Contributing Factors. Career Move - Private Sector ',\n",
      "       'Contributing Factors. Career Move - Self-employment',\n",
      "       'Contributing Factors. Ill Health',\n",
      "       'Contributing Factors. Maternity/Family',\n",
      "       'Contributing Factors. Dissatisfaction',\n",
      "       'Contributing Factors. Job Dissatisfaction',\n",
      "       'Contributing Factors. Interpersonal Conflict',\n",
      "       'Contributing Factors. Study', 'Contributing Factors. Travel',\n",
      "       'Contributing Factors. Other', 'Contributing Factors. NONE',\n",
      "       'Gender.     What is your Gender?', 'CurrentAge.     Current Age',\n",
      "       'Employment Type.     Employment Type',\n",
      "       'Classification.     Classification',\n",
      "       'LengthofServiceOverall. Overall Length of Service at Institute (in years)',\n",
      "       'LengthofServiceCurrent. Length of Service at current workplace (in years)'],\n",
      "      dtype='object')\n"
     ]
    }
   ],
   "source": [
    "print(dete_survey_updated.columns)\n",
    "print(\"\")\n",
    "print(tafe_survey_updated.columns)"
   ]
  },
  {
   "cell_type": "markdown",
   "metadata": {},
   "source": [
    "## 2. Editing the Column Names\n",
    "\n",
    "Now that the dataset is much more readable, I can rename the columns so that both datasets contain the same column names. This will make it much easier to merge the two datasets later on."
   ]
  },
  {
   "cell_type": "markdown",
   "metadata": {},
   "source": [
    "### a) DETE Survey Dataset\n",
    "\n",
    "In order to make the column names in the DETE database more readable, we will complete the following:\n",
    "1. Change the name of SeparationType to Separation Type so it follows the naming convention of the other columns\n",
    "2. Merge all the columns relating to why the employee left the company into a single column\n",
    "3. Remove any other unnecessary columns\n",
    "\\end{itemize}\n",
    "\n",
    "First, I will rename the SeparationType column."
   ]
  },
  {
   "cell_type": "code",
   "execution_count": 7,
   "metadata": {},
   "outputs": [],
   "source": [
    "dete_survey_updated = dete_survey_updated.rename(columns={\"SeparationType\": \"Separation Type\"})"
   ]
  },
  {
   "cell_type": "markdown",
   "metadata": {},
   "source": [
    "Now I will merge all columns that contain reasons for why an employee voluntarily left the school district, which range from \"Career move to public sector\" to \"None of the above\". The data entries in these columns contain the boolean value True if the reason in the column title influenced the employee's decicion to leave and contain the boolean value False if it did not. Thus, I will combine all of the columns into a single column containing all of the reasons as to why the employee left."
   ]
  },
  {
   "cell_type": "code",
   "execution_count": 8,
   "metadata": {
    "scrolled": true
   },
   "outputs": [
    {
     "data": {
      "text/html": [
       "<div>\n",
       "<style scoped>\n",
       "    .dataframe tbody tr th:only-of-type {\n",
       "        vertical-align: middle;\n",
       "    }\n",
       "\n",
       "    .dataframe tbody tr th {\n",
       "        vertical-align: top;\n",
       "    }\n",
       "\n",
       "    .dataframe thead th {\n",
       "        text-align: right;\n",
       "    }\n",
       "</style>\n",
       "<table border=\"1\" class=\"dataframe\">\n",
       "  <thead>\n",
       "    <tr style=\"text-align: right;\">\n",
       "      <th></th>\n",
       "      <th>Career move to public sector</th>\n",
       "      <th>Career move to private sector</th>\n",
       "      <th>Interpersonal conflicts</th>\n",
       "      <th>Job dissatisfaction</th>\n",
       "      <th>Dissatisfaction with the department</th>\n",
       "      <th>Physical work environment</th>\n",
       "      <th>Lack of recognition</th>\n",
       "      <th>Lack of job security</th>\n",
       "      <th>Work location</th>\n",
       "      <th>Employment conditions</th>\n",
       "      <th>Maternity/family</th>\n",
       "      <th>Relocation</th>\n",
       "      <th>Study/Travel</th>\n",
       "      <th>Ill Health</th>\n",
       "      <th>Traumatic incident</th>\n",
       "      <th>Work life balance</th>\n",
       "      <th>Workload</th>\n",
       "      <th>None of the above</th>\n",
       "    </tr>\n",
       "  </thead>\n",
       "  <tbody>\n",
       "    <tr>\n",
       "      <td>0</td>\n",
       "      <td>True</td>\n",
       "      <td>False</td>\n",
       "      <td>False</td>\n",
       "      <td>True</td>\n",
       "      <td>False</td>\n",
       "      <td>False</td>\n",
       "      <td>True</td>\n",
       "      <td>False</td>\n",
       "      <td>False</td>\n",
       "      <td>False</td>\n",
       "      <td>False</td>\n",
       "      <td>False</td>\n",
       "      <td>False</td>\n",
       "      <td>False</td>\n",
       "      <td>False</td>\n",
       "      <td>False</td>\n",
       "      <td>False</td>\n",
       "      <td>True</td>\n",
       "    </tr>\n",
       "    <tr>\n",
       "      <td>1</td>\n",
       "      <td>False</td>\n",
       "      <td>False</td>\n",
       "      <td>False</td>\n",
       "      <td>False</td>\n",
       "      <td>False</td>\n",
       "      <td>False</td>\n",
       "      <td>False</td>\n",
       "      <td>False</td>\n",
       "      <td>False</td>\n",
       "      <td>False</td>\n",
       "      <td>False</td>\n",
       "      <td>False</td>\n",
       "      <td>False</td>\n",
       "      <td>False</td>\n",
       "      <td>False</td>\n",
       "      <td>False</td>\n",
       "      <td>False</td>\n",
       "      <td>False</td>\n",
       "    </tr>\n",
       "    <tr>\n",
       "      <td>2</td>\n",
       "      <td>False</td>\n",
       "      <td>False</td>\n",
       "      <td>False</td>\n",
       "      <td>False</td>\n",
       "      <td>False</td>\n",
       "      <td>False</td>\n",
       "      <td>False</td>\n",
       "      <td>False</td>\n",
       "      <td>False</td>\n",
       "      <td>False</td>\n",
       "      <td>False</td>\n",
       "      <td>False</td>\n",
       "      <td>False</td>\n",
       "      <td>False</td>\n",
       "      <td>False</td>\n",
       "      <td>False</td>\n",
       "      <td>False</td>\n",
       "      <td>True</td>\n",
       "    </tr>\n",
       "  </tbody>\n",
       "</table>\n",
       "</div>"
      ],
      "text/plain": [
       "   Career move to public sector  Career move to private sector  \\\n",
       "0                          True                          False   \n",
       "1                         False                          False   \n",
       "2                         False                          False   \n",
       "\n",
       "   Interpersonal conflicts  Job dissatisfaction  \\\n",
       "0                    False                 True   \n",
       "1                    False                False   \n",
       "2                    False                False   \n",
       "\n",
       "   Dissatisfaction with the department  Physical work environment  \\\n",
       "0                                False                      False   \n",
       "1                                False                      False   \n",
       "2                                False                      False   \n",
       "\n",
       "   Lack of recognition  Lack of job security  Work location  \\\n",
       "0                 True                 False          False   \n",
       "1                False                 False          False   \n",
       "2                False                 False          False   \n",
       "\n",
       "   Employment conditions  Maternity/family  Relocation  Study/Travel  \\\n",
       "0                  False             False       False         False   \n",
       "1                  False             False       False         False   \n",
       "2                  False             False       False         False   \n",
       "\n",
       "   Ill Health  Traumatic incident  Work life balance  Workload  \\\n",
       "0       False               False              False     False   \n",
       "1       False               False              False     False   \n",
       "2       False               False              False     False   \n",
       "\n",
       "   None of the above  \n",
       "0               True  \n",
       "1              False  \n",
       "2               True  "
      ]
     },
     "execution_count": 8,
     "metadata": {},
     "output_type": "execute_result"
    }
   ],
   "source": [
    "# Contains all of the values in the dataset that indicate why the employee left the company\n",
    "reasons_for_leaving = ['Career move to public sector',\n",
    "                       'Career move to private sector',\n",
    "                       'Interpersonal conflicts',\n",
    "                       'Job dissatisfaction',\n",
    "                       'Dissatisfaction with the department',\n",
    "                       'Physical work environment',\n",
    "                       'Lack of recognition',\n",
    "                       'Lack of job security',\n",
    "                       'Work location',\n",
    "                       'Employment conditions',\n",
    "                       'Maternity/family',\n",
    "                       'Relocation',\n",
    "                       'Study/Travel',\n",
    "                       'Ill Health',\n",
    "                       'Traumatic incident',\n",
    "                       'Work life balance',\n",
    "                       'Workload',\n",
    "                       'None of the above']\n",
    "\n",
    "# DETE dataset containing just the columns in reasons_for_leaving\n",
    "dete_survey_updated[reasons_for_leaving].head(3)"
   ]
  },
  {
   "cell_type": "markdown",
   "metadata": {},
   "source": [
    "Next I will create a function creates a string that lists all of the reasons as to why the employee left the district. If the value within a given column is True, I will add the name of the column (and thus the factor influencing the employee to leave) to the list of new values. I will place this list in a new column, which I will name Reasons for Leaving."
   ]
  },
  {
   "cell_type": "code",
   "execution_count": 9,
   "metadata": {
    "scrolled": true
   },
   "outputs": [],
   "source": [
    "def merge_reasons(row, columns_to_merge):\n",
    "    column_names = dete_survey_updated[columns_to_merge].columns # names of all columns for reasons why the employee left\n",
    "    reasons = row[columns_to_merge] # all values for reasons_for_leaving in the given row\n",
    "    merged = [] # will contain all reasons the employee left the company\n",
    "    merged_string = \"\" # will contain a string of all reasons the employee left the company\n",
    "    \n",
    "    column_name_index = 0 # will be used to determine index of column name\n",
    "    for reason in reasons:\n",
    "        if reason == True:\n",
    "            merged.append(column_names[column_name_index]) # adds column name to the merged list if column is True\n",
    "        column_name_index += 1\n",
    "\n",
    "    merged = sorted(merged) # sorts reasons alphabetically\n",
    "    \n",
    "    if len(merged) > 0:\n",
    "        for reason in merged:\n",
    "            merged_string += reason # adds all values in merged to the new string\n",
    "            if merged[-1] != reason:\n",
    "                merged_string += \", \" # creates a comma in between values\n",
    "                \n",
    "    else:\n",
    "        merged_string += \"Not Specified\" # if every column is True, will set the string to \"Not Specified\"\n",
    "        \n",
    "    merged_string = merged_string.replace(\"None of the above\", \"Not Specified\") # ensures all \"None of the above\" values become \"Not Specified\" values\n",
    "        \n",
    "    return merged_string"
   ]
  },
  {
   "cell_type": "code",
   "execution_count": 10,
   "metadata": {},
   "outputs": [
    {
     "data": {
      "text/plain": [
       "0      Career move to public sector, Job dissatisfact...\n",
       "1                                          Not Specified\n",
       "2                                          Not Specified\n",
       "3                          Career move to private sector\n",
       "4                                      Work life balance\n",
       "                             ...                        \n",
       "817               Ill Health, Maternity/family, Workload\n",
       "818                                        Not Specified\n",
       "819      Maternity/family, Relocation, Work life balance\n",
       "820                                           Ill Health\n",
       "821                                        Not Specified\n",
       "Name: Reasons for Leaving, Length: 822, dtype: object"
      ]
     },
     "execution_count": 10,
     "metadata": {},
     "output_type": "execute_result"
    }
   ],
   "source": [
    "dete_survey_updated[\"Reasons for Leaving\"] = dete_survey_updated.apply(merge_reasons, axis=1, args=([reasons_for_leaving]))\n",
    "dete_survey_updated[\"Reasons for Leaving\"]\n"
   ]
  },
  {
   "cell_type": "markdown",
   "metadata": {},
   "source": [
    "Now that I have merged all of the reasons for leaving into a single column, I can remove all of the columns in the dataset that have now been merged into the Reasons for Leaving column."
   ]
  },
  {
   "cell_type": "code",
   "execution_count": 11,
   "metadata": {},
   "outputs": [],
   "source": [
    "dete_survey_updated = dete_survey_updated.drop(reasons_for_leaving, axis=1)"
   ]
  },
  {
   "cell_type": "markdown",
   "metadata": {},
   "source": [
    "I'm also going to remove the columns in the range \"Aboriginal\" to \"NESB\" as they don't seem to be pertinent to my analysis. The code below will remove those columns from our dataset."
   ]
  },
  {
   "cell_type": "code",
   "execution_count": 12,
   "metadata": {},
   "outputs": [
    {
     "data": {
      "text/plain": [
       "Index(['ID', 'Separation Type', 'Cease Date', 'DETE Start Date',\n",
       "       'Role Start Date', 'Position', 'Classification', 'Region',\n",
       "       'Business Unit', 'Employment Status', 'Gender', 'Age',\n",
       "       'Reasons for Leaving'],\n",
       "      dtype='object')"
      ]
     },
     "execution_count": 12,
     "metadata": {},
     "output_type": "execute_result"
    }
   ],
   "source": [
    "dete_survey_updated = dete_survey_updated.drop(dete_survey_updated.columns[12:17], axis=1)\n",
    "dete_survey_updated.columns"
   ]
  },
  {
   "cell_type": "markdown",
   "metadata": {},
   "source": [
    "Now that the columns in DETE dataset have been cleaned, I can begin working on renaming the columns in the TAFE dataset."
   ]
  },
  {
   "cell_type": "markdown",
   "metadata": {},
   "source": [
    "### b) TAFE Survey Dataset\n",
    "\n",
    "In order to rename the column in the TAFE dataset so it's easier to analyze, I will complete the following steps:\n",
    "1. Remove all unnecessay whitespace from the column names\n",
    "2. Merge the Contributing Factors columns into a single column\n",
    "3. Rename the other columns so that they all adhere to the same naming convention\n",
    "\n",
    "First, I will strip away all of the whitespace in all of the column names."
   ]
  },
  {
   "cell_type": "code",
   "execution_count": 13,
   "metadata": {},
   "outputs": [
    {
     "data": {
      "text/plain": [
       "Index(['Record ID', 'Institute', 'WorkArea', 'CESSATION YEAR',\n",
       "       'Reason for ceasing employment',\n",
       "       'Contributing Factors. Career Move - Public Sector',\n",
       "       'Contributing Factors. Career Move - Private Sector',\n",
       "       'Contributing Factors. Career Move - Self-employment',\n",
       "       'Contributing Factors. Ill Health',\n",
       "       'Contributing Factors. Maternity/Family',\n",
       "       'Contributing Factors. Dissatisfaction',\n",
       "       'Contributing Factors. Job Dissatisfaction',\n",
       "       'Contributing Factors. Interpersonal Conflict',\n",
       "       'Contributing Factors. Study', 'Contributing Factors. Travel',\n",
       "       'Contributing Factors. Other', 'Contributing Factors. NONE',\n",
       "       'Gender.     What is your Gender?', 'CurrentAge.     Current Age',\n",
       "       'Employment Type.     Employment Type',\n",
       "       'Classification.     Classification',\n",
       "       'LengthofServiceOverall. Overall Length of Service at Institute (in years)',\n",
       "       'LengthofServiceCurrent. Length of Service at current workplace (in years)'],\n",
       "      dtype='object')"
      ]
     },
     "execution_count": 13,
     "metadata": {},
     "output_type": "execute_result"
    }
   ],
   "source": [
    "tafe_survey_updated.columns = tafe_survey_updated.columns.str.strip()\n",
    "tafe_survey_updated.columns"
   ]
  },
  {
   "cell_type": "markdown",
   "metadata": {},
   "source": [
    "Using the strip method did not remove the spacing between the column names. There must be some character other than a space that is causing this spacing issue. I wuse a loop to take a look at all of the charcters in the \"Gender.     What is your Gender?\" column (which has this strange spacing issue) so I can determine what this strage character is and remove it."
   ]
  },
  {
   "cell_type": "code",
   "execution_count": 14,
   "metadata": {},
   "outputs": [
    {
     "name": "stdout",
     "output_type": "stream",
     "text": [
      "['G', 'e', 'n', 'd', 'e', 'r', '.', ' ', '\\xa0', '\\xa0', '\\xa0', '\\xa0', 'W', 'h', 'a', 't', ' ', 'i', 's', ' ', 'y', 'o', 'u', 'r', ' ', 'G', 'e', 'n', 'd', 'e', 'r', '?']\n"
     ]
    }
   ],
   "source": [
    "test_char = []\n",
    "for char in tafe_survey_updated.columns[17]:\n",
    "    test_char.append(char)\n",
    "print(test_char)"
   ]
  },
  {
   "cell_type": "markdown",
   "metadata": {},
   "source": [
    "There is a strange char that is causing the additional spacing between the column names. I will replace this char with an empty string in order to remove this spacing issue."
   ]
  },
  {
   "cell_type": "code",
   "execution_count": 15,
   "metadata": {},
   "outputs": [
    {
     "data": {
      "text/plain": [
       "Index(['Record ID', 'Institute', 'WorkArea', 'CESSATION YEAR',\n",
       "       'Reason for ceasing employment',\n",
       "       'Contributing Factors. Career Move - Public Sector',\n",
       "       'Contributing Factors. Career Move - Private Sector',\n",
       "       'Contributing Factors. Career Move - Self-employment',\n",
       "       'Contributing Factors. Ill Health',\n",
       "       'Contributing Factors. Maternity/Family',\n",
       "       'Contributing Factors. Dissatisfaction',\n",
       "       'Contributing Factors. Job Dissatisfaction',\n",
       "       'Contributing Factors. Interpersonal Conflict',\n",
       "       'Contributing Factors. Study', 'Contributing Factors. Travel',\n",
       "       'Contributing Factors. Other', 'Contributing Factors. NONE',\n",
       "       'Gender. What is your Gender?', 'CurrentAge. Current Age',\n",
       "       'Employment Type. Employment Type', 'Classification. Classification',\n",
       "       'LengthofServiceOverall. Overall Length of Service at Institute (in years)',\n",
       "       'LengthofServiceCurrent. Length of Service at current workplace (in years)'],\n",
       "      dtype='object')"
      ]
     },
     "execution_count": 15,
     "metadata": {},
     "output_type": "execute_result"
    }
   ],
   "source": [
    "tafe_survey_updated.columns = tafe_survey_updated.columns.str.replace('\\xa0', \"\")\n",
    "tafe_survey_updated.columns"
   ]
  },
  {
   "cell_type": "markdown",
   "metadata": {},
   "source": [
    "Removing the strange char seemed to remedy the spacing issue. Now, I can merge all of the \"Contributing Factors\" columns into a single Reasons for Leaving column so that a single column will a list of all of the reasons as to why a given person decided to leave the school district. First, I will take a look at all of the columns that contain \"Contributing Factors\" within the title name."
   ]
  },
  {
   "cell_type": "code",
   "execution_count": 16,
   "metadata": {},
   "outputs": [
    {
     "data": {
      "text/html": [
       "<div>\n",
       "<style scoped>\n",
       "    .dataframe tbody tr th:only-of-type {\n",
       "        vertical-align: middle;\n",
       "    }\n",
       "\n",
       "    .dataframe tbody tr th {\n",
       "        vertical-align: top;\n",
       "    }\n",
       "\n",
       "    .dataframe thead th {\n",
       "        text-align: right;\n",
       "    }\n",
       "</style>\n",
       "<table border=\"1\" class=\"dataframe\">\n",
       "  <thead>\n",
       "    <tr style=\"text-align: right;\">\n",
       "      <th></th>\n",
       "      <th>Contributing Factors. Career Move - Public Sector</th>\n",
       "      <th>Contributing Factors. Career Move - Private Sector</th>\n",
       "      <th>Contributing Factors. Career Move - Self-employment</th>\n",
       "      <th>Contributing Factors. Ill Health</th>\n",
       "      <th>Contributing Factors. Maternity/Family</th>\n",
       "      <th>Contributing Factors. Dissatisfaction</th>\n",
       "      <th>Contributing Factors. Job Dissatisfaction</th>\n",
       "      <th>Contributing Factors. Interpersonal Conflict</th>\n",
       "      <th>Contributing Factors. Study</th>\n",
       "      <th>Contributing Factors. Travel</th>\n",
       "      <th>Contributing Factors. Other</th>\n",
       "      <th>Contributing Factors. NONE</th>\n",
       "    </tr>\n",
       "  </thead>\n",
       "  <tbody>\n",
       "    <tr>\n",
       "      <td>0</td>\n",
       "      <td>NaN</td>\n",
       "      <td>NaN</td>\n",
       "      <td>NaN</td>\n",
       "      <td>NaN</td>\n",
       "      <td>NaN</td>\n",
       "      <td>NaN</td>\n",
       "      <td>NaN</td>\n",
       "      <td>NaN</td>\n",
       "      <td>NaN</td>\n",
       "      <td>NaN</td>\n",
       "      <td>NaN</td>\n",
       "      <td>NaN</td>\n",
       "    </tr>\n",
       "    <tr>\n",
       "      <td>1</td>\n",
       "      <td>-</td>\n",
       "      <td>-</td>\n",
       "      <td>-</td>\n",
       "      <td>-</td>\n",
       "      <td>-</td>\n",
       "      <td>-</td>\n",
       "      <td>-</td>\n",
       "      <td>-</td>\n",
       "      <td>-</td>\n",
       "      <td>Travel</td>\n",
       "      <td>-</td>\n",
       "      <td>-</td>\n",
       "    </tr>\n",
       "    <tr>\n",
       "      <td>2</td>\n",
       "      <td>-</td>\n",
       "      <td>-</td>\n",
       "      <td>-</td>\n",
       "      <td>-</td>\n",
       "      <td>-</td>\n",
       "      <td>-</td>\n",
       "      <td>-</td>\n",
       "      <td>-</td>\n",
       "      <td>-</td>\n",
       "      <td>-</td>\n",
       "      <td>-</td>\n",
       "      <td>NONE</td>\n",
       "    </tr>\n",
       "  </tbody>\n",
       "</table>\n",
       "</div>"
      ],
      "text/plain": [
       "  Contributing Factors. Career Move - Public Sector  \\\n",
       "0                                               NaN   \n",
       "1                                                 -   \n",
       "2                                                 -   \n",
       "\n",
       "  Contributing Factors. Career Move - Private Sector  \\\n",
       "0                                                NaN   \n",
       "1                                                  -   \n",
       "2                                                  -   \n",
       "\n",
       "  Contributing Factors. Career Move - Self-employment  \\\n",
       "0                                                NaN    \n",
       "1                                                  -    \n",
       "2                                                  -    \n",
       "\n",
       "  Contributing Factors. Ill Health Contributing Factors. Maternity/Family  \\\n",
       "0                              NaN                                    NaN   \n",
       "1                                -                                      -   \n",
       "2                                -                                      -   \n",
       "\n",
       "  Contributing Factors. Dissatisfaction  \\\n",
       "0                                   NaN   \n",
       "1                                     -   \n",
       "2                                     -   \n",
       "\n",
       "  Contributing Factors. Job Dissatisfaction  \\\n",
       "0                                       NaN   \n",
       "1                                         -   \n",
       "2                                         -   \n",
       "\n",
       "  Contributing Factors. Interpersonal Conflict Contributing Factors. Study  \\\n",
       "0                                          NaN                         NaN   \n",
       "1                                            -                           -   \n",
       "2                                            -                           -   \n",
       "\n",
       "  Contributing Factors. Travel Contributing Factors. Other  \\\n",
       "0                          NaN                         NaN   \n",
       "1                       Travel                           -   \n",
       "2                            -                           -   \n",
       "\n",
       "  Contributing Factors. NONE  \n",
       "0                        NaN  \n",
       "1                          -  \n",
       "2                       NONE  "
      ]
     },
     "execution_count": 16,
     "metadata": {},
     "output_type": "execute_result"
    }
   ],
   "source": [
    "contributing_factors = []\n",
    "\n",
    "for column in tafe_survey_updated.columns:\n",
    "    if \"Contributing Factors\" in column:\n",
    "        contributing_factors.append(column)\n",
    "        \n",
    "tafe_survey_updated[contributing_factors].head(3)"
   ]
  },
  {
   "cell_type": "markdown",
   "metadata": {},
   "source": [
    "The Contribution Factors columns have two possible values: \n",
    "- Dash (-) = indicates the factor does not apply\n",
    "- Name of Title = indicates the factor does apply\n",
    "\n",
    "I will merge all of these Contributing Factors columns into a single column that contains all of the reasons the employee left the school district. First, I will create a Reasons for Leaving column that will eventually contain a list of all reasons the employee left. Then, I will create a function that adds all of the contributing factors to the list, which will be in a string format, in a similar manner as I did for the DETE dataset."
   ]
  },
  {
   "cell_type": "code",
   "execution_count": 17,
   "metadata": {},
   "outputs": [],
   "source": [
    "def merge_factors(row):\n",
    "    reasons = row[contributing_factors] # all values for reasons_for_leaving in the given row\n",
    "    merged = [] # will contain all reasons the employee left the company\n",
    "    merged_string = \"\" # will contain a string of all reasons the employee left the company\n",
    "    \n",
    "    for reason in reasons:\n",
    "        if reason != \"-\":\n",
    "            merged.append(reason) # adds column name to the merged list if column is True\n",
    "\n",
    "    merged = sorted(merged) # sorts reasons alphabetically\n",
    "    \n",
    "    if len(merged) > 0:\n",
    "        for reason in merged:\n",
    "            try:\n",
    "                merged_string += reason # adds all values in merged to the new string\n",
    "                if merged[-1] != reason:\n",
    "                    merged_string += \", \" # creates a comma in between values\n",
    "            except TypeError:\n",
    "                merged += \"\"\n",
    "    \n",
    "    merged_string = merged_string.replace(\", NONE\", \"\")\n",
    "    merged_string = merged_string.replace(\", Other\", \"\")\n",
    "    merged_string = merged_string.replace(\"NONE\", \"\")\n",
    "    merged_string = merged_string.replace(\"Other\", \"\")\n",
    "                \n",
    "    if merged_string == \"\":\n",
    "        merged_string = \"Not Specified\" # if every column is True, will set the string to \"Not Specified\"\n",
    "    \n",
    "    return merged_string"
   ]
  },
  {
   "cell_type": "code",
   "execution_count": 18,
   "metadata": {},
   "outputs": [
    {
     "data": {
      "text/plain": [
       "0                              Not Specified\n",
       "1                                     Travel\n",
       "2                              Not Specified\n",
       "3                                     Travel\n",
       "4               Career Move - Private Sector\n",
       "                       ...                  \n",
       "697              Career Move - Public Sector\n",
       "698              Career Move - Public Sector\n",
       "699                            Not Specified\n",
       "700                            Not Specified\n",
       "701    Career Move - Self-employment, Travel\n",
       "Name: Reasons for Leaving, Length: 702, dtype: object"
      ]
     },
     "execution_count": 18,
     "metadata": {},
     "output_type": "execute_result"
    }
   ],
   "source": [
    "tafe_survey_updated[\"Reasons for Leaving\"] = tafe_survey_updated.apply(merge_factors, axis=1)\n",
    "tafe_survey_updated[\"Reasons for Leaving\"]"
   ]
  },
  {
   "cell_type": "markdown",
   "metadata": {},
   "source": [
    "And now that I have merged all of the contributing factors into a single column, I will remove all of the Contributing Factor columns from the dataset."
   ]
  },
  {
   "cell_type": "code",
   "execution_count": 19,
   "metadata": {},
   "outputs": [],
   "source": [
    "tafe_survey_updated = tafe_survey_updated.drop(contributing_factors, axis=1)"
   ]
  },
  {
   "cell_type": "markdown",
   "metadata": {},
   "source": [
    "And finally, now that all of the contributing factors have been merged into a single column, I will rename some of the columns in the dataset so they fit a better naming convention and are more readable."
   ]
  },
  {
   "cell_type": "code",
   "execution_count": 20,
   "metadata": {},
   "outputs": [
    {
     "data": {
      "text/plain": [
       "Index(['ID', 'Institute', 'Work Area', 'Cease Date', 'Separation Type',\n",
       "       'Gender', 'Age', 'Employment Status', 'Position', 'Institute Service',\n",
       "       'Role Service', 'Reasons for Leaving'],\n",
       "      dtype='object')"
      ]
     },
     "execution_count": 20,
     "metadata": {},
     "output_type": "execute_result"
    }
   ],
   "source": [
    "# Update column names to match the names in dete_survey_updated\n",
    "mapping = {'Record ID': 'ID', \n",
    "           'WorkArea': \"Work Area\",\n",
    "           'CESSATION YEAR': 'Cease Date', \n",
    "           'Reason for ceasing employment': 'Separation Type', \n",
    "           'Gender. What is your Gender?': 'Gender', \n",
    "           'CurrentAge. Current Age': 'Age',\n",
    "           'Employment Type. Employment Type': 'Employment Status',\n",
    "           'Classification. Classification': 'Position',\n",
    "           'LengthofServiceOverall. Overall Length of Service at Institute (in years)': 'Institute Service',\n",
    "           'LengthofServiceCurrent. Length of Service at current workplace (in years)': 'Role Service'\n",
    "          }\n",
    "tafe_survey_updated = tafe_survey_updated.rename(mapping, axis = 1)\n",
    "\n",
    "# Check that the specified column names were updated correctly\n",
    "tafe_survey_updated.columns"
   ]
  },
  {
   "cell_type": "code",
   "execution_count": 21,
   "metadata": {},
   "outputs": [
    {
     "data": {
      "text/plain": [
       "Index(['ID', 'Separation Type', 'Cease Date', 'DETE Start Date',\n",
       "       'Role Start Date', 'Position', 'Classification', 'Region',\n",
       "       'Business Unit', 'Employment Status', 'Gender', 'Age',\n",
       "       'Reasons for Leaving'],\n",
       "      dtype='object')"
      ]
     },
     "execution_count": 21,
     "metadata": {},
     "output_type": "execute_result"
    }
   ],
   "source": [
    "dete_survey_updated.columns"
   ]
  },
  {
   "cell_type": "markdown",
   "metadata": {},
   "source": [
    "Eventually, I will ensure that both the TAFE and DETE datasets have the same column names (both in quantity and actual name themselves), but both datasets are clean enough for now."
   ]
  },
  {
   "cell_type": "markdown",
   "metadata": {},
   "source": [
    "## 3. Resigning and Dissatisfied Employees\n",
    "\n",
    "Before I begin adjusting the possible values within each dataset so they are the same in both, I will first have to do the following:\n",
    "1. Limit the dataset to only data entries of employees who resigned\n",
    "2. Create an \"Institute Service\" column in the DETE dataset that indicates tenure each employee served\n",
    "3. Find out which employees resigned due to dissatisfaction"
   ]
  },
  {
   "cell_type": "markdown",
   "metadata": {},
   "source": [
    "### a) Employees Who Resigned\n",
    "\n",
    "Note that since I'm interested in dissatisfaction levels amongst employees who left the company, I am only interested in analyzing the data from employees who voluntarily resigned. While employees who were fired or retired may have been dissatisfied , they did not leave the district for those reason. In order to find out which employees resigned, I will analyze the Separation Type column in each of the datasets."
   ]
  },
  {
   "cell_type": "code",
   "execution_count": 22,
   "metadata": {},
   "outputs": [
    {
     "data": {
      "text/plain": [
       "Age Retirement                          285\n",
       "Resignation-Other reasons               150\n",
       "Resignation-Other employer               91\n",
       "Resignation-Move overseas/interstate     70\n",
       "Voluntary Early Retirement (VER)         67\n",
       "Ill Health Retirement                    61\n",
       "Other                                    49\n",
       "Contract Expired                         34\n",
       "Termination                              15\n",
       "Name: Separation Type, dtype: int64"
      ]
     },
     "execution_count": 22,
     "metadata": {},
     "output_type": "execute_result"
    }
   ],
   "source": [
    "dete_survey_updated[\"Separation Type\"].value_counts()"
   ]
  },
  {
   "cell_type": "code",
   "execution_count": 23,
   "metadata": {},
   "outputs": [
    {
     "data": {
      "text/plain": [
       "Resignation                 340\n",
       "Contract Expired            127\n",
       "Retrenchment/ Redundancy    104\n",
       "Retirement                   82\n",
       "Transfer                     25\n",
       "Termination                  23\n",
       "Name: Separation Type, dtype: int64"
      ]
     },
     "execution_count": 23,
     "metadata": {},
     "output_type": "execute_result"
    }
   ],
   "source": [
    "tafe_survey_updated[\"Separation Type\"].value_counts()"
   ]
  },
  {
   "cell_type": "markdown",
   "metadata": {},
   "source": [
    "In the DETE dataset, there are three different types of resignations while in the TAFE dataset, there is only one type of resignation. I will create a subset for each dataset that contains only data entries of employees that resigned."
   ]
  },
  {
   "cell_type": "code",
   "execution_count": 24,
   "metadata": {},
   "outputs": [],
   "source": [
    "resignation_bool = (dete_survey_updated[\"Separation Type\"] == \"Resignation-Other reasons\") | (dete_survey_updated[\"Separation Type\"] == \"Resignation-Other employer\") | (dete_survey_updated[\"Separation Type\"] == \"Resignation-Move overseas/interstate\")\n",
    "dete_resignations = dete_survey_updated[resignation_bool]\n",
    "tafe_resignations = tafe_survey_updated[tafe_survey_updated[\"Separation Type\"] == \"Resignation\"]"
   ]
  },
  {
   "cell_type": "code",
   "execution_count": 25,
   "metadata": {},
   "outputs": [
    {
     "name": "stdout",
     "output_type": "stream",
     "text": [
      "0.37834549878345497\n"
     ]
    }
   ],
   "source": [
    "print(len(dete_resignations) / len(dete_survey_updated))"
   ]
  },
  {
   "cell_type": "code",
   "execution_count": 26,
   "metadata": {},
   "outputs": [
    {
     "name": "stdout",
     "output_type": "stream",
     "text": [
      "0.4843304843304843\n"
     ]
    }
   ],
   "source": [
    "print(len(tafe_resignations) / len(tafe_survey_updated))"
   ]
  },
  {
   "cell_type": "markdown",
   "metadata": {},
   "source": [
    "It looks as though employees are much more likely to resign from TAFE (over 48%) than they are from DETE (less than 38%). Now that all the data entries contain employees who resigned, I will drop the Separation Type column from each of the data subsets."
   ]
  },
  {
   "cell_type": "code",
   "execution_count": 27,
   "metadata": {},
   "outputs": [],
   "source": [
    "dete_resignations = dete_resignations.drop(\"Separation Type\", axis=1)\n",
    "tafe_resignations = tafe_resignations.drop(\"Separation Type\", axis=1)"
   ]
  },
  {
   "cell_type": "markdown",
   "metadata": {},
   "source": [
    "I will use dete_resignations and tafe_resignations for the remainer of my analysis."
   ]
  },
  {
   "cell_type": "markdown",
   "metadata": {},
   "source": [
    "### b) Cease Dates\n",
    "\n",
    "Although the TAFE dataset has a value that contains information on length of tenure for employees, the DETE dataset does not. However, it does have two columns (DETE Start Date and Cease Date) that could be used to calculate this information. Let's take a look at both of those columns."
   ]
  },
  {
   "cell_type": "code",
   "execution_count": 28,
   "metadata": {},
   "outputs": [
    {
     "data": {
      "text/plain": [
       "2011.0    24\n",
       "2008.0    22\n",
       "2007.0    21\n",
       "2012.0    21\n",
       "2010.0    17\n",
       "Name: DETE Start Date, dtype: int64"
      ]
     },
     "execution_count": 28,
     "metadata": {},
     "output_type": "execute_result"
    }
   ],
   "source": [
    "dete_resignations[\"DETE Start Date\"].value_counts().head()"
   ]
  },
  {
   "cell_type": "code",
   "execution_count": 29,
   "metadata": {},
   "outputs": [
    {
     "data": {
      "text/plain": [
       "2012       126\n",
       "2013        74\n",
       "01/2014     22\n",
       "12/2013     17\n",
       "06/2013     14\n",
       "Name: Cease Date, dtype: int64"
      ]
     },
     "execution_count": 29,
     "metadata": {},
     "output_type": "execute_result"
    }
   ],
   "source": [
    "dete_resignations[\"Cease Date\"].value_counts().head()"
   ]
  },
  {
   "cell_type": "markdown",
   "metadata": {},
   "source": [
    "While  the DETE Start Date column only contains only years, the \"Cease Date\" column contains both years and months. Since I'm only interested in the year (I just need the number of years the employee has worked, anything more specific than that would be unecessary), I will extract the year from the Cease Date column and replace the value with the year."
   ]
  },
  {
   "cell_type": "code",
   "execution_count": 30,
   "metadata": {},
   "outputs": [],
   "source": [
    "dete_resignations['Cease Date'] = dete_resignations['Cease Date'].str.split(\"/\").str[-1]"
   ]
  },
  {
   "cell_type": "code",
   "execution_count": 31,
   "metadata": {
    "scrolled": true
   },
   "outputs": [
    {
     "data": {
      "text/plain": [
       "2013    146\n",
       "2012    129\n",
       "2014     22\n",
       "2010      2\n",
       "2006      1\n",
       "Name: Cease Date, dtype: int64"
      ]
     },
     "execution_count": 31,
     "metadata": {},
     "output_type": "execute_result"
    }
   ],
   "source": [
    "dete_resignations[\"Cease Date\"].value_counts()"
   ]
  },
  {
   "cell_type": "markdown",
   "metadata": {},
   "source": [
    "Now that I have extracted the years from the Cease Date column, I will be able to subtract the DETE Start Date column from the Cease Date column to calculate the employees' length of tenure in years."
   ]
  },
  {
   "cell_type": "markdown",
   "metadata": {},
   "source": [
    "### c) Tenure Worked\n",
    "\n",
    "While the TAFE dataset has a column called Institute Service that indicates tenure, the DETE dataset does not have a similar column. However, subtracting the DETE Start Date from the Cease Date columns I will be able to create a similar column in the DETE dataset."
   ]
  },
  {
   "cell_type": "code",
   "execution_count": 32,
   "metadata": {},
   "outputs": [
    {
     "data": {
      "text/plain": [
       "Less than 1 year      73\n",
       "1-2                   64\n",
       "3-4                   63\n",
       "5-6                   33\n",
       "11-20                 26\n",
       "7-10                  21\n",
       "More than 20 years    10\n",
       "Name: Institute Service, dtype: int64"
      ]
     },
     "execution_count": 32,
     "metadata": {},
     "output_type": "execute_result"
    }
   ],
   "source": [
    "tafe_resignations[\"Institute Service\"].value_counts()"
   ]
  },
  {
   "cell_type": "markdown",
   "metadata": {},
   "source": [
    "The Institute Service column contains a series of bins with a range of values that indicate length of tenure. For example, the \"1-2\" bin would contain all employees who worked for 1-2 years before resigning. I will create a function that calculates the tenure for each of the employees and then place each employee in one of seven bins. I will use this formula to create an Institute Service column in the DETE resignations dataset."
   ]
  },
  {
   "cell_type": "code",
   "execution_count": 33,
   "metadata": {},
   "outputs": [
    {
     "data": {
      "text/plain": [
       "11-20                 57\n",
       "More than 20 years    43\n",
       "7-10                  41\n",
       "5-6                   40\n",
       "1-2                   36\n",
       "3-4                   36\n",
       "Less than 1 year      20\n",
       "Name: Institute Service, dtype: int64"
      ]
     },
     "execution_count": 33,
     "metadata": {},
     "output_type": "execute_result"
    }
   ],
   "source": [
    "def tenure_finder(row):\n",
    "    tenure = \"\"\n",
    "    try:\n",
    "        tenure = int(row[\"Cease Date\"]) - int(row[\"DETE Start Date\"])\n",
    "\n",
    "        if tenure < 1:\n",
    "            return \"Less than 1 year\"\n",
    "        elif tenure <= 2:\n",
    "            return \"1-2\"\n",
    "        elif tenure <= 4:\n",
    "            return \"3-4\"         \n",
    "        elif tenure <= 6:\n",
    "            return \"5-6\" \n",
    "        elif tenure <= 10:\n",
    "            return \"7-10\" \n",
    "        elif tenure <= 20:\n",
    "            return \"11-20\" \n",
    "        else:\n",
    "            return \"More than 20 years\"\n",
    "    \n",
    "    except ValueError:\n",
    "        next\n",
    "                 \n",
    "dete_resignations[\"Institute Service\"] = dete_resignations.apply(tenure_finder, axis=1)\n",
    "dete_resignations[\"Institute Service\"].value_counts()"
   ]
  },
  {
   "cell_type": "markdown",
   "metadata": {},
   "source": [
    "Now that the DETE \"Institute Service\" column has been created, note the average tenure for the employees in the DETE resignations dataset is much higher than that of the employees in the TAFE resignations dataset."
   ]
  },
  {
   "cell_type": "markdown",
   "metadata": {},
   "source": [
    "### d) Dissatisfaction Column\n",
    "\n",
    "There are several values in the \"Reasons for Leaving\" columns of the DETE and TAFE surveys that indicate dissatisfaction:\n",
    "- DETE Survey:\n",
    "    - Job dissatisfaction\n",
    "    - Dissatisfaction with the department\n",
    "    - Physical work environment\n",
    "    - Lack of Recognition\n",
    "    - Lack of Job Security\n",
    "    - Work location\n",
    "    - Employment conditions\n",
    "    - Work life balance\n",
    "    - Workload\n",
    "- TAFE Survey:\n",
    "    - Contributing Factors. Dissatisfaction\n",
    "    - Job Dissatisfaction\n",
    "\n",
    "I will use this data to create a column that indicates whether the person resigned due to dissatisfaction (via the categories above) with a Boolean True or False value."
   ]
  },
  {
   "cell_type": "code",
   "execution_count": 34,
   "metadata": {},
   "outputs": [],
   "source": [
    "dete_dissatisfaction = [\"Job dissatisfaction\",\n",
    "                        \"Dissatisfaction with the department\",\n",
    "                        \"Physical work environment\",\n",
    "                        \"Lack of recognition\",\n",
    "                        \"Lack of job security\",\n",
    "                        \"Work location\",\n",
    "                        \"Employment conditions\", \n",
    "                        \"Work life balance\",\n",
    "                        \"Workload\"]\n",
    "\n",
    "tafe_dissatisfaction = [\"Contributing Factors. Dissatisfaction \", \"Job Dissatisfaction\"]"
   ]
  },
  {
   "cell_type": "code",
   "execution_count": 35,
   "metadata": {},
   "outputs": [],
   "source": [
    "def dissatisfaction(row, diss_values):\n",
    "    contributing_factors = row[\"Reasons for Leaving\"].split(\", \")\n",
    "    \n",
    "    for value in contributing_factors:\n",
    "        if value in diss_values:\n",
    "            return True\n",
    "        \n",
    "    return False"
   ]
  },
  {
   "cell_type": "code",
   "execution_count": 36,
   "metadata": {},
   "outputs": [
    {
     "data": {
      "text/html": [
       "<div>\n",
       "<style scoped>\n",
       "    .dataframe tbody tr th:only-of-type {\n",
       "        vertical-align: middle;\n",
       "    }\n",
       "\n",
       "    .dataframe tbody tr th {\n",
       "        vertical-align: top;\n",
       "    }\n",
       "\n",
       "    .dataframe thead th {\n",
       "        text-align: right;\n",
       "    }\n",
       "</style>\n",
       "<table border=\"1\" class=\"dataframe\">\n",
       "  <thead>\n",
       "    <tr style=\"text-align: right;\">\n",
       "      <th></th>\n",
       "      <th>Reasons for Leaving</th>\n",
       "      <th>Dissatisfaction</th>\n",
       "    </tr>\n",
       "  </thead>\n",
       "  <tbody>\n",
       "    <tr>\n",
       "      <td>3</td>\n",
       "      <td>Career move to private sector</td>\n",
       "      <td>False</td>\n",
       "    </tr>\n",
       "    <tr>\n",
       "      <td>5</td>\n",
       "      <td>Career move to private sector, Employment cond...</td>\n",
       "      <td>True</td>\n",
       "    </tr>\n",
       "    <tr>\n",
       "      <td>8</td>\n",
       "      <td>Career move to private sector</td>\n",
       "      <td>False</td>\n",
       "    </tr>\n",
       "    <tr>\n",
       "      <td>9</td>\n",
       "      <td>Dissatisfaction with the department, Interpers...</td>\n",
       "      <td>True</td>\n",
       "    </tr>\n",
       "    <tr>\n",
       "      <td>11</td>\n",
       "      <td>Maternity/family, Relocation</td>\n",
       "      <td>False</td>\n",
       "    </tr>\n",
       "  </tbody>\n",
       "</table>\n",
       "</div>"
      ],
      "text/plain": [
       "                                  Reasons for Leaving  Dissatisfaction\n",
       "3                       Career move to private sector            False\n",
       "5   Career move to private sector, Employment cond...             True\n",
       "8                       Career move to private sector            False\n",
       "9   Dissatisfaction with the department, Interpers...             True\n",
       "11                       Maternity/family, Relocation            False"
      ]
     },
     "execution_count": 36,
     "metadata": {},
     "output_type": "execute_result"
    }
   ],
   "source": [
    "dete_resignations[\"Dissatisfaction\"] = dete_resignations.apply(dissatisfaction, axis=1, args=([dete_dissatisfaction]))\n",
    "dete_resignations[[\"Reasons for Leaving\", \"Dissatisfaction\"]].head()"
   ]
  },
  {
   "cell_type": "code",
   "execution_count": 37,
   "metadata": {},
   "outputs": [
    {
     "data": {
      "text/html": [
       "<div>\n",
       "<style scoped>\n",
       "    .dataframe tbody tr th:only-of-type {\n",
       "        vertical-align: middle;\n",
       "    }\n",
       "\n",
       "    .dataframe tbody tr th {\n",
       "        vertical-align: top;\n",
       "    }\n",
       "\n",
       "    .dataframe thead th {\n",
       "        text-align: right;\n",
       "    }\n",
       "</style>\n",
       "<table border=\"1\" class=\"dataframe\">\n",
       "  <thead>\n",
       "    <tr style=\"text-align: right;\">\n",
       "      <th></th>\n",
       "      <th>Reasons for Leaving</th>\n",
       "      <th>Dissatisfaction</th>\n",
       "    </tr>\n",
       "  </thead>\n",
       "  <tbody>\n",
       "    <tr>\n",
       "      <td>3</td>\n",
       "      <td>Travel</td>\n",
       "      <td>False</td>\n",
       "    </tr>\n",
       "    <tr>\n",
       "      <td>4</td>\n",
       "      <td>Career Move - Private Sector</td>\n",
       "      <td>False</td>\n",
       "    </tr>\n",
       "    <tr>\n",
       "      <td>5</td>\n",
       "      <td>Not Specified</td>\n",
       "      <td>False</td>\n",
       "    </tr>\n",
       "    <tr>\n",
       "      <td>6</td>\n",
       "      <td>Career Move - Private Sector, Maternity/Family</td>\n",
       "      <td>False</td>\n",
       "    </tr>\n",
       "    <tr>\n",
       "      <td>7</td>\n",
       "      <td>Not Specified</td>\n",
       "      <td>False</td>\n",
       "    </tr>\n",
       "  </tbody>\n",
       "</table>\n",
       "</div>"
      ],
      "text/plain": [
       "                              Reasons for Leaving  Dissatisfaction\n",
       "3                                          Travel            False\n",
       "4                    Career Move - Private Sector            False\n",
       "5                                   Not Specified            False\n",
       "6  Career Move - Private Sector, Maternity/Family            False\n",
       "7                                   Not Specified            False"
      ]
     },
     "execution_count": 37,
     "metadata": {},
     "output_type": "execute_result"
    }
   ],
   "source": [
    "tafe_resignations[\"Dissatisfaction\"] = tafe_resignations.apply(dissatisfaction, axis=1, args=([tafe_dissatisfaction]))\n",
    "tafe_resignations[[\"Reasons for Leaving\", \"Dissatisfaction\"]].head(5)"
   ]
  },
  {
   "cell_type": "markdown",
   "metadata": {},
   "source": [
    "Next I will create a function that replaces all of the values that indicate dissatisfaction in the Reasons for Leaving columns of both datasets with the word Dissatisfaction. If a reason indicating dissatisfaction appears more than once in the data entry, the function will eliminate the duplicates."
   ]
  },
  {
   "cell_type": "code",
   "execution_count": 38,
   "metadata": {},
   "outputs": [],
   "source": [
    "def dissatisfaction_organizer(row, diss_values):\n",
    "    reasons_for_leaving = row[\"Reasons for Leaving\"].split(\", \")\n",
    "    \n",
    "    reasons = []\n",
    "    reasons_string = \"\"\n",
    "    \n",
    "    for value in reasons_for_leaving:\n",
    "        if value in diss_values:\n",
    "            reasons_for_leaving.append(\"Dissatisfaction\")\n",
    "            \n",
    "    for reason in reasons_for_leaving:    \n",
    "        if reason not in diss_values and (reason != \"Dissatisfaction\" or \"Dissatisfaction\" not in reasons):\n",
    "            reasons.append(reason)\n",
    "            \n",
    "    reasons = sorted(reasons)\n",
    "        \n",
    "    for reason in reasons:\n",
    "        reasons_string += reason\n",
    "        if reasons[-1] != reason:\n",
    "            reasons_string += \", \"\n",
    "    \n",
    "               \n",
    "    return reasons_string"
   ]
  },
  {
   "cell_type": "code",
   "execution_count": 39,
   "metadata": {},
   "outputs": [
    {
     "data": {
      "text/html": [
       "<div>\n",
       "<style scoped>\n",
       "    .dataframe tbody tr th:only-of-type {\n",
       "        vertical-align: middle;\n",
       "    }\n",
       "\n",
       "    .dataframe tbody tr th {\n",
       "        vertical-align: top;\n",
       "    }\n",
       "\n",
       "    .dataframe thead th {\n",
       "        text-align: right;\n",
       "    }\n",
       "</style>\n",
       "<table border=\"1\" class=\"dataframe\">\n",
       "  <thead>\n",
       "    <tr style=\"text-align: right;\">\n",
       "      <th></th>\n",
       "      <th>Reasons for Leaving</th>\n",
       "      <th>Dissatisfaction</th>\n",
       "    </tr>\n",
       "  </thead>\n",
       "  <tbody>\n",
       "    <tr>\n",
       "      <td>3</td>\n",
       "      <td>Career move to private sector</td>\n",
       "      <td>False</td>\n",
       "    </tr>\n",
       "    <tr>\n",
       "      <td>5</td>\n",
       "      <td>Career move to private sector, Dissatisfaction...</td>\n",
       "      <td>True</td>\n",
       "    </tr>\n",
       "    <tr>\n",
       "      <td>8</td>\n",
       "      <td>Career move to private sector</td>\n",
       "      <td>False</td>\n",
       "    </tr>\n",
       "    <tr>\n",
       "      <td>9</td>\n",
       "      <td>Dissatisfaction, Interpersonal conflicts</td>\n",
       "      <td>True</td>\n",
       "    </tr>\n",
       "    <tr>\n",
       "      <td>11</td>\n",
       "      <td>Maternity/family, Relocation</td>\n",
       "      <td>False</td>\n",
       "    </tr>\n",
       "  </tbody>\n",
       "</table>\n",
       "</div>"
      ],
      "text/plain": [
       "                                  Reasons for Leaving  Dissatisfaction\n",
       "3                       Career move to private sector            False\n",
       "5   Career move to private sector, Dissatisfaction...             True\n",
       "8                       Career move to private sector            False\n",
       "9            Dissatisfaction, Interpersonal conflicts             True\n",
       "11                       Maternity/family, Relocation            False"
      ]
     },
     "execution_count": 39,
     "metadata": {},
     "output_type": "execute_result"
    }
   ],
   "source": [
    "dete_resignations[\"Reasons for Leaving\"] = dete_resignations.apply(dissatisfaction_organizer, axis=1, args=([dete_dissatisfaction]))\n",
    "dete_resignations[[\"Reasons for Leaving\", \"Dissatisfaction\"]].head()\n"
   ]
  },
  {
   "cell_type": "code",
   "execution_count": 40,
   "metadata": {},
   "outputs": [
    {
     "data": {
      "text/html": [
       "<div>\n",
       "<style scoped>\n",
       "    .dataframe tbody tr th:only-of-type {\n",
       "        vertical-align: middle;\n",
       "    }\n",
       "\n",
       "    .dataframe tbody tr th {\n",
       "        vertical-align: top;\n",
       "    }\n",
       "\n",
       "    .dataframe thead th {\n",
       "        text-align: right;\n",
       "    }\n",
       "</style>\n",
       "<table border=\"1\" class=\"dataframe\">\n",
       "  <thead>\n",
       "    <tr style=\"text-align: right;\">\n",
       "      <th></th>\n",
       "      <th>Reasons for Leaving</th>\n",
       "      <th>Dissatisfaction</th>\n",
       "    </tr>\n",
       "  </thead>\n",
       "  <tbody>\n",
       "    <tr>\n",
       "      <td>14</td>\n",
       "      <td>Career Move - Private Sector, Dissatisfaction</td>\n",
       "      <td>True</td>\n",
       "    </tr>\n",
       "    <tr>\n",
       "      <td>17</td>\n",
       "      <td>Career Move - Public Sector, Dissatisfaction</td>\n",
       "      <td>True</td>\n",
       "    </tr>\n",
       "    <tr>\n",
       "      <td>20</td>\n",
       "      <td>Dissatisfaction</td>\n",
       "      <td>True</td>\n",
       "    </tr>\n",
       "    <tr>\n",
       "      <td>26</td>\n",
       "      <td>Career Move - Private Sector, Dissatisfaction</td>\n",
       "      <td>True</td>\n",
       "    </tr>\n",
       "    <tr>\n",
       "      <td>40</td>\n",
       "      <td>Dissatisfaction</td>\n",
       "      <td>True</td>\n",
       "    </tr>\n",
       "  </tbody>\n",
       "</table>\n",
       "</div>"
      ],
      "text/plain": [
       "                              Reasons for Leaving  Dissatisfaction\n",
       "14  Career Move - Private Sector, Dissatisfaction             True\n",
       "17   Career Move - Public Sector, Dissatisfaction             True\n",
       "20                                Dissatisfaction             True\n",
       "26  Career Move - Private Sector, Dissatisfaction             True\n",
       "40                                Dissatisfaction             True"
      ]
     },
     "execution_count": 40,
     "metadata": {},
     "output_type": "execute_result"
    }
   ],
   "source": [
    "tafe_resignations[\"Reasons for Leaving\"] = tafe_resignations.apply(dissatisfaction_organizer, axis=1, args=([tafe_dissatisfaction]))\n",
    "tafe_resignations[tafe_resignations[\"Dissatisfaction\"] == True][[\"Reasons for Leaving\", \"Dissatisfaction\"]].head()\n"
   ]
  },
  {
   "cell_type": "markdown",
   "metadata": {},
   "source": [
    "Now that I can easily tell which employees resigned due to dissatisfaction, I will work on making sure both datasets have the exact same columns and that the possible values in each of those columns are the same. This will allow me to merge the datasets together and to make comparisons between the two datasets much easier."
   ]
  },
  {
   "cell_type": "markdown",
   "metadata": {},
   "source": [
    "## 4. Preparing the Datasets for a Merge\n",
    "\n",
    "In order to concatinate the datasets, I first have to ensure  both datasets have the same columns and that all possible values within each column are the same."
   ]
  },
  {
   "cell_type": "markdown",
   "metadata": {},
   "source": [
    "### a) Editing the Column Names\n",
    "\n",
    "First, I will take a look at the names of the columns in each of the datasets to make sure they are the same."
   ]
  },
  {
   "cell_type": "code",
   "execution_count": 41,
   "metadata": {},
   "outputs": [
    {
     "data": {
      "text/plain": [
       "Index(['ID', 'Cease Date', 'DETE Start Date', 'Role Start Date', 'Position',\n",
       "       'Classification', 'Region', 'Business Unit', 'Employment Status',\n",
       "       'Gender', 'Age', 'Reasons for Leaving', 'Institute Service',\n",
       "       'Dissatisfaction'],\n",
       "      dtype='object')"
      ]
     },
     "execution_count": 41,
     "metadata": {},
     "output_type": "execute_result"
    }
   ],
   "source": [
    "dete_resignations.columns"
   ]
  },
  {
   "cell_type": "code",
   "execution_count": 42,
   "metadata": {},
   "outputs": [
    {
     "data": {
      "text/plain": [
       "Index(['ID', 'Institute', 'Work Area', 'Cease Date', 'Gender', 'Age',\n",
       "       'Employment Status', 'Position', 'Institute Service', 'Role Service',\n",
       "       'Reasons for Leaving', 'Dissatisfaction'],\n",
       "      dtype='object')"
      ]
     },
     "execution_count": 42,
     "metadata": {},
     "output_type": "execute_result"
    }
   ],
   "source": [
    "tafe_resignations.columns"
   ]
  },
  {
   "cell_type": "markdown",
   "metadata": {},
   "source": [
    "It appears as though both datasets have column names that the other dataset does not have. I will get rid of all of these columns as they don't seem pertinent to my investigation. Additionally, I will drop the ID and Cease Date from both datasets as they are also not very useful."
   ]
  },
  {
   "cell_type": "code",
   "execution_count": 43,
   "metadata": {},
   "outputs": [],
   "source": [
    "dete_resignations = dete_resignations.drop([\"ID\", \"DETE Start Date\", \"Role Start Date\", \"Region\", \"Business Unit\", \"Classification\", \"Cease Date\"], axis=1)\n",
    "tafe_resignations = tafe_resignations.drop([\"ID\", \"Institute\", \"Work Area\", \"Role Service\", \"Cease Date\"], axis=1)\n"
   ]
  },
  {
   "cell_type": "code",
   "execution_count": 44,
   "metadata": {},
   "outputs": [
    {
     "data": {
      "text/plain": [
       "Index(['Position', 'Employment Status', 'Gender', 'Age', 'Reasons for Leaving',\n",
       "       'Institute Service', 'Dissatisfaction'],\n",
       "      dtype='object')"
      ]
     },
     "execution_count": 44,
     "metadata": {},
     "output_type": "execute_result"
    }
   ],
   "source": [
    "dete_resignations.columns"
   ]
  },
  {
   "cell_type": "code",
   "execution_count": 45,
   "metadata": {},
   "outputs": [
    {
     "data": {
      "text/plain": [
       "Index(['Gender', 'Age', 'Employment Status', 'Position', 'Institute Service',\n",
       "       'Reasons for Leaving', 'Dissatisfaction'],\n",
       "      dtype='object')"
      ]
     },
     "execution_count": 45,
     "metadata": {},
     "output_type": "execute_result"
    }
   ],
   "source": [
    "tafe_resignations.columns"
   ]
  },
  {
   "cell_type": "markdown",
   "metadata": {},
   "source": [
    "Now both of the datasets only have seven columns each and they are the same in both datasets. Now I will make sure that all possible values within each column name are the same as well."
   ]
  },
  {
   "cell_type": "markdown",
   "metadata": {},
   "source": [
    "### b) Editing Column Values\n",
    "\n",
    "Before I begin looking at the values within each column, I will create a simple function that uses a map in order to change values within a given column into new values."
   ]
  },
  {
   "cell_type": "code",
   "execution_count": 46,
   "metadata": {},
   "outputs": [],
   "source": [
    "def value_changer(col_map, col):\n",
    "    for key, value in col_map.items():\n",
    "        tafe_resignations.loc[tafe_resignations[col] == key, col] = value\n",
    "        dete_resignations.loc[dete_resignations[col] == key, col] = value"
   ]
  },
  {
   "cell_type": "markdown",
   "metadata": {},
   "source": [
    "Next, I will take a look at the possible values within the Gender column. I suspect they will be the same in both datasets, but I will check to make sure."
   ]
  },
  {
   "cell_type": "code",
   "execution_count": 47,
   "metadata": {
    "scrolled": true
   },
   "outputs": [
    {
     "data": {
      "text/plain": [
       "Female    233\n",
       "Male       69\n",
       "Name: Gender, dtype: int64"
      ]
     },
     "execution_count": 47,
     "metadata": {},
     "output_type": "execute_result"
    }
   ],
   "source": [
    "dete_resignations[\"Gender\"].value_counts()"
   ]
  },
  {
   "cell_type": "code",
   "execution_count": 48,
   "metadata": {},
   "outputs": [
    {
     "data": {
      "text/plain": [
       "Female    191\n",
       "Male       99\n",
       "Name: Gender, dtype: int64"
      ]
     },
     "execution_count": 48,
     "metadata": {},
     "output_type": "execute_result"
    }
   ],
   "source": [
    "tafe_resignations[\"Gender\"].value_counts()"
   ]
  },
  {
   "cell_type": "markdown",
   "metadata": {},
   "source": [
    "The Gender columns doesn't need adjusting, so I will move on to the Age column."
   ]
  },
  {
   "cell_type": "code",
   "execution_count": 49,
   "metadata": {},
   "outputs": [
    {
     "data": {
      "text/plain": [
       "41-45            48\n",
       "46-50            42\n",
       "36-40            41\n",
       "26-30            35\n",
       "51-55            32\n",
       "31-35            29\n",
       "21-25            29\n",
       "56-60            26\n",
       "61 or older      23\n",
       "20 or younger     1\n",
       "Name: Age, dtype: int64"
      ]
     },
     "execution_count": 49,
     "metadata": {},
     "output_type": "execute_result"
    }
   ],
   "source": [
    "dete_resignations[\"Age\"].value_counts()"
   ]
  },
  {
   "cell_type": "code",
   "execution_count": 50,
   "metadata": {},
   "outputs": [
    {
     "data": {
      "text/plain": [
       "41 – 45          45\n",
       "51-55            39\n",
       "46 – 50          39\n",
       "21 – 25          33\n",
       "36 – 40          32\n",
       "31 – 35          32\n",
       "26 – 30          32\n",
       "56 or older      29\n",
       "20 or younger     9\n",
       "Name: Age, dtype: int64"
      ]
     },
     "execution_count": 50,
     "metadata": {},
     "output_type": "execute_result"
    }
   ],
   "source": [
    "tafe_resignations[\"Age\"].value_counts()"
   ]
  },
  {
   "cell_type": "markdown",
   "metadata": {},
   "source": [
    "While the possible values in the Age column are very similar in both datasets, there are a few notable differences:\n",
    "- DETE dataset has a \"56-60\" category and a \"61 or older\" category, whereas the TAFE dataset has a \"56 or older\" category that contains both groups\n",
    "- The TAFE dataset has additional spacings between the hyphens for most of the values, for example \"41 – 45\" should be \"41-45\"\n",
    "\n",
    "I will use the value_changer function in order to remedy these values. Additionally, I will use the function to change \"56 or older\" to \"Over 55\" and \"20 or younger\" to \"Under 21\"."
   ]
  },
  {
   "cell_type": "code",
   "execution_count": 51,
   "metadata": {},
   "outputs": [],
   "source": [
    "age_map = {\"20 or younger\": \"18-20\",\n",
    "           \"21 – 25\": \"21-25\",\n",
    "           \"26 – 30\": \"26-30\",\n",
    "           \"31 – 35\": \"31-35\",\n",
    "           \"36 – 40\": \"36-40\",\n",
    "           \"41 – 45\": \"41-45\",\n",
    "           \"46 – 50\": \"46-50\",\n",
    "           \"56-60\": \"56+\",\n",
    "           \"56 or older\": \"56+\",\n",
    "           \"61 or older\": \"56+\"\n",
    "}\n",
    "\n",
    "value_changer(age_map, \"Age\")"
   ]
  },
  {
   "cell_type": "code",
   "execution_count": 52,
   "metadata": {},
   "outputs": [
    {
     "data": {
      "text/plain": [
       "56+      49\n",
       "41-45    48\n",
       "46-50    42\n",
       "36-40    41\n",
       "26-30    35\n",
       "51-55    32\n",
       "31-35    29\n",
       "21-25    29\n",
       "18-20     1\n",
       "Name: Age, dtype: int64"
      ]
     },
     "execution_count": 52,
     "metadata": {},
     "output_type": "execute_result"
    }
   ],
   "source": [
    "dete_resignations[\"Age\"].value_counts()"
   ]
  },
  {
   "cell_type": "code",
   "execution_count": 53,
   "metadata": {},
   "outputs": [
    {
     "data": {
      "text/plain": [
       "41-45    45\n",
       "51-55    39\n",
       "46-50    39\n",
       "21-25    33\n",
       "31-35    32\n",
       "36-40    32\n",
       "26-30    32\n",
       "56+      29\n",
       "18-20     9\n",
       "Name: Age, dtype: int64"
      ]
     },
     "execution_count": 53,
     "metadata": {},
     "output_type": "execute_result"
    }
   ],
   "source": [
    "tafe_resignations[\"Age\"].value_counts()"
   ]
  },
  {
   "cell_type": "markdown",
   "metadata": {},
   "source": [
    "Now that both datasets have the same nine possible values in the Age column, I will take a look at the possible values for the Employment Status column."
   ]
  },
  {
   "cell_type": "code",
   "execution_count": 54,
   "metadata": {},
   "outputs": [
    {
     "data": {
      "text/plain": [
       "Permanent Full-time    158\n",
       "Permanent Part-time    125\n",
       "Temporary Part-time     10\n",
       "Temporary Full-time      9\n",
       "Casual                   5\n",
       "Name: Employment Status, dtype: int64"
      ]
     },
     "execution_count": 54,
     "metadata": {},
     "output_type": "execute_result"
    }
   ],
   "source": [
    "dete_resignations[\"Employment Status\"].value_counts()"
   ]
  },
  {
   "cell_type": "code",
   "execution_count": 55,
   "metadata": {},
   "outputs": [
    {
     "data": {
      "text/plain": [
       "Temporary Full-time    111\n",
       "Permanent Full-time     98\n",
       "Contract/casual         29\n",
       "Temporary Part-time     27\n",
       "Permanent Part-time     25\n",
       "Name: Employment Status, dtype: int64"
      ]
     },
     "execution_count": 55,
     "metadata": {},
     "output_type": "execute_result"
    }
   ],
   "source": [
    "tafe_resignations[\"Employment Status\"].value_counts()"
   ]
  },
  {
   "cell_type": "markdown",
   "metadata": {},
   "source": [
    "The DETE dataset has a \"Casual\" value whereas the TAFE dataset has a \"Contract/casual\" value.  I will rename the \"Contract/casual\" values in the TAFE dataset to \"Casual\" and additionally shorten the names of the rest of the values in the dataset using the value_changer function. "
   ]
  },
  {
   "cell_type": "code",
   "execution_count": 56,
   "metadata": {},
   "outputs": [],
   "source": [
    "def value_changer(col_map, col):\n",
    "    for key, value in col_map.items():\n",
    "        tafe_resignations.loc[tafe_resignations[col] == key, col] = value\n",
    "        dete_resignations.loc[dete_resignations[col] == key, col] = value"
   ]
  },
  {
   "cell_type": "code",
   "execution_count": 57,
   "metadata": {},
   "outputs": [
    {
     "data": {
      "text/plain": [
       "Temp (Part)    111\n",
       "Full-time       98\n",
       "Casual          29\n",
       "Temp (Full)     27\n",
       "Part-time       25\n",
       "Name: Employment Status, dtype: int64"
      ]
     },
     "execution_count": 57,
     "metadata": {},
     "output_type": "execute_result"
    }
   ],
   "source": [
    "employment_map = {\"Contract/casual\": \"Casual\",\n",
    "                  \"Temporary Full-time\": \"Temp (Part)\",\n",
    "                  \"Permanent Full-time\": \"Full-time\",\n",
    "                  \"Temporary Part-time\": \"Temp (Full)\",\n",
    "                  \"Permanent Part-time\": \"Part-time\"\n",
    "}\n",
    "\n",
    "value_changer(employment_map, \"Employment Status\")       \n",
    "tafe_resignations[\"Employment Status\"].value_counts()"
   ]
  },
  {
   "cell_type": "markdown",
   "metadata": {},
   "source": [
    "Next, I will examine the possible values of the Position columns."
   ]
  },
  {
   "cell_type": "code",
   "execution_count": 58,
   "metadata": {},
   "outputs": [
    {
     "data": {
      "text/plain": [
       "Teacher                                                    129\n",
       "Teacher Aide                                                63\n",
       "Cleaner                                                     39\n",
       "Public Servant                                              30\n",
       "Head of Curriculum/Head of Special Education                10\n",
       "School Administrative Staff                                  8\n",
       "Technical Officer                                            8\n",
       "Schools Officer                                              7\n",
       "School Based Professional Staff (Therapist, nurse, etc)      5\n",
       "Guidance Officer                                             3\n",
       "Other                                                        3\n",
       "Professional Officer                                         2\n",
       "Business Service Manager                                     1\n",
       "Name: Position, dtype: int64"
      ]
     },
     "execution_count": 58,
     "metadata": {},
     "output_type": "execute_result"
    }
   ],
   "source": [
    "dete_resignations[\"Position\"].value_counts()"
   ]
  },
  {
   "cell_type": "code",
   "execution_count": 59,
   "metadata": {},
   "outputs": [
    {
     "data": {
      "text/plain": [
       "Administration (AO)           148\n",
       "Teacher (including LVT)        95\n",
       "Professional Officer (PO)      16\n",
       "Operational (OO)               13\n",
       "Workplace Training Officer      6\n",
       "Technical Officer (TO)          5\n",
       "Executive (SES/SO)              4\n",
       "Tutor                           3\n",
       "Name: Position, dtype: int64"
      ]
     },
     "execution_count": 59,
     "metadata": {},
     "output_type": "execute_result"
    }
   ],
   "source": [
    "tafe_resignations[\"Position\"].value_counts()"
   ]
  },
  {
   "cell_type": "markdown",
   "metadata": {},
   "source": [
    "There are a lot of differences between the possible values for this column in each dataset, so I will need to significantly adjust the names of the possible values. First, I will create a new group of possible values that encompases all of the values within each dataset. Then, I will use these new values to replace the old values in each dataset. These new values (as well as the values they will replace) are listed on the table below.\n",
    "\n",
    "| New Value | TAFE | DETE |\n",
    "|:----|:--------|:----------|\n",
    "| Administration | Administration (AO), Executive (SES/SO) | School Administrative Staff, Head of Curriculum/Head of Special Education, Business Service Manager, Public Servant |\n",
    "| Teacher / Teacher's Aide | Teacher (including LVT) | Teacher, Teacher Aide |\n",
    "| Officer | Professional Officer (PO), Workplace Training Officer, Technical Officer (TO) | Technical Officer, Schools Officer, Guidance Officer, Professional Officer |\n",
    "| Operational | Operational (OO) | Cleaner |\n",
    "| Other | Tutor | Other, School Based Professional Staff (Therapist, nurse, etc) |"
   ]
  },
  {
   "cell_type": "markdown",
   "metadata": {},
   "source": [
    "Now, I will create a map and use the position_changer function to change all of the old values to these new values."
   ]
  },
  {
   "cell_type": "code",
   "execution_count": 60,
   "metadata": {},
   "outputs": [],
   "source": [
    "position_map = {\"Administration (AO)\": \"Administration\",\n",
    "                \"Executive (SES/SO)\": \"Administration\",\n",
    "                \"School Administrative Staff\": \"Administration\",\n",
    "                \"Head of Curriculum/Head of Special Education\": \"Administration\",\n",
    "                \"Business Service Manager\": \"Administration\",\n",
    "                \"Public Servant\": \"Administration\",\n",
    "                \n",
    "                \"Teacher (including LVT)\": \"Teacher / TA\",\n",
    "                \"Teacher\": \"Teacher / TA\",\n",
    "                \"Teacher Aide\": \"Teacher / TA\",\n",
    "                \n",
    "                \"Professional Officer (PO)\": \"Officer\",\n",
    "                \"Workplace Training Officer\": \"Officer\",\n",
    "                \"Technical Officer (TO)\": \"Officer\",\n",
    "                \"Technical Officer\": \"Officer\",\n",
    "                \"Schools Officer\": \"Officer\",\n",
    "                \"Guidance Officer\": \"Officer\",\n",
    "                \"Professional Officer\": \"Officer\",\n",
    "                \n",
    "                \"Operational (OO)\": \"Operations\",\n",
    "                \"Cleaner\": \"Operations\",\n",
    "                \n",
    "                \"Tutor\": \"Other\",\n",
    "                \"School Based Professional Staff (Therapist, nurse, etc)\": \"Other\"\n",
    "}\n",
    "\n",
    "value_changer(position_map, \"Position\")"
   ]
  },
  {
   "cell_type": "code",
   "execution_count": 61,
   "metadata": {},
   "outputs": [
    {
     "data": {
      "text/plain": [
       "Teacher / TA      192\n",
       "Administration     49\n",
       "Operations         39\n",
       "Officer            20\n",
       "Other               8\n",
       "Name: Position, dtype: int64"
      ]
     },
     "execution_count": 61,
     "metadata": {},
     "output_type": "execute_result"
    }
   ],
   "source": [
    "dete_resignations[\"Position\"].value_counts()"
   ]
  },
  {
   "cell_type": "code",
   "execution_count": 62,
   "metadata": {},
   "outputs": [
    {
     "data": {
      "text/plain": [
       "Administration    152\n",
       "Teacher / TA       95\n",
       "Officer            27\n",
       "Operations         13\n",
       "Other               3\n",
       "Name: Position, dtype: int64"
      ]
     },
     "execution_count": 62,
     "metadata": {},
     "output_type": "execute_result"
    }
   ],
   "source": [
    "tafe_resignations[\"Position\"].value_counts()"
   ]
  },
  {
   "cell_type": "markdown",
   "metadata": {},
   "source": [
    "Note that the TAFE dataset has a very large number of \"Administration\" workers whereas the DETE dataset has a very large number of \"Teacher / Teacher's Aide\" workers.\n",
    "\n",
    "Note that the Institute Service columns should be identical in each dataset since I modeled the Institute Service column in the DETE dataset after the one in the TAFE dataset. However, I'm going to rename the Institute Service column to Institute Tenure so it's more self-explanatory as to the column's purpose. I will also use the value_changer function to change the value \"Less than 1 year\" to \"Under 1\" and the value \"More than 20 years\" to \"Over 20\"."
   ]
  },
  {
   "cell_type": "code",
   "execution_count": 63,
   "metadata": {},
   "outputs": [
    {
     "data": {
      "text/plain": [
       "11-20    57\n",
       "21+      43\n",
       "7-10     41\n",
       "5-6      40\n",
       "1-2      36\n",
       "3-4      36\n",
       "0-1      20\n",
       "Name: Institute Tenure, dtype: int64"
      ]
     },
     "execution_count": 63,
     "metadata": {},
     "output_type": "execute_result"
    }
   ],
   "source": [
    "dete_resignations = dete_resignations.rename(columns={\"Institute Service\": \"Institute Tenure\"})\n",
    "tafe_resignations = tafe_resignations.rename(columns={\"Institute Service\": \"Institute Tenure\"})\n",
    "\n",
    "tenure_map = {\"Less than 1 year\": \"0-1\",\n",
    "              \"More than 20 years\": \"21+\"\n",
    "}\n",
    "\n",
    "value_changer(tenure_map, \"Institute Tenure\")\n",
    "\n",
    "dete_resignations[\"Institute Tenure\"].value_counts()"
   ]
  },
  {
   "cell_type": "markdown",
   "metadata": {},
   "source": [
    "Now I will move on to the \"Reasons for Leaving\" column, which should be fairly complicated since it contains a list of all possible values rather than a single value. I will first need to create a dictionary containing new values that encompass all of the values in each dataset. Then, I will need to create a function that converts the old values in both datasets to these new values. "
   ]
  },
  {
   "cell_type": "code",
   "execution_count": 64,
   "metadata": {},
   "outputs": [],
   "source": [
    "transform = {\n",
    "                    \"Career move to public sector\": \"Career Move to Public Sector\",\n",
    "                    \"Career move to private sector\": \"Career Move to Private Sector\",\n",
    "                    \"Interpersonal conflicts\": \"Interpersonal Conflict\",\n",
    "                    \"Maternity/family\": \"Maternal/Family\",\n",
    "                    \"Traumatic incident\": \"Ill Health\",\n",
    "                    \"Career Move - Public Sector\": \"Career Move to Public Sector\",\n",
    "                    \"Career Move - Private Sector\": \"Career Move to Private Sector\",\n",
    "                    \"Career Move - Self-employment\": \"Career Move to Self-employment\",\n",
    "                    \"Study\": \"Study/Travel\",\n",
    "                    \"Travel\": \"Study/Travel\"\n",
    "                }"
   ]
  },
  {
   "cell_type": "markdown",
   "metadata": {},
   "source": [
    "Next, I will create the function that converts the current values in the Reasons for Leaving column in each dataset into these newly defined values."
   ]
  },
  {
   "cell_type": "code",
   "execution_count": 65,
   "metadata": {},
   "outputs": [],
   "source": [
    "def transformer(row):\n",
    "    contributing_factors = row[\"Reasons for Leaving\"].split(\", \")\n",
    "    result = []\n",
    "    new_result = \"\"\n",
    "    \n",
    "    # Converts the old values into the new values and adds them to the contributing_factors list\n",
    "    for value in contributing_factors:\n",
    "        if value in transform:\n",
    "            contributing_factors.append(transform[value])\n",
    "    \n",
    "    # Note contributing_factors contains both new and old values\n",
    "    # Only adds new values to the list, does not add old values\n",
    "    if len(contributing_factors) > 0:\n",
    "        for factor in contributing_factors:\n",
    "            if factor not in result and factor not in transform:\n",
    "                result.append(factor)\n",
    "    \n",
    "    # If the list is empty, makes the value \"Not Specified\"\n",
    "    else:\n",
    "        result.append(\"Not Specified\")\n",
    "    \n",
    "    # Sorts the results alphabetically\n",
    "    result = sorted(result)\n",
    "    \n",
    "    # Converts the list result to a string list\n",
    "    for factor in result:\n",
    "        new_result += factor\n",
    "        if result[-1] != factor:\n",
    "            new_result += \", \"\n",
    "    \n",
    "    return new_result"
   ]
  },
  {
   "cell_type": "code",
   "execution_count": 66,
   "metadata": {},
   "outputs": [],
   "source": [
    "dete_resignations[\"Reasons for Leaving\"] = dete_resignations.apply(transformer, axis=1)"
   ]
  },
  {
   "cell_type": "code",
   "execution_count": 67,
   "metadata": {},
   "outputs": [],
   "source": [
    "tafe_resignations[\"Reasons for Leaving\"] = tafe_resignations.apply(transformer, axis=1)"
   ]
  },
  {
   "cell_type": "markdown",
   "metadata": {},
   "source": [
    "Now that both datasets have the same columns and the same possible values in each column, I can combine the two datasets."
   ]
  },
  {
   "cell_type": "markdown",
   "metadata": {},
   "source": [
    "### c) Combining the Datasets\n",
    "\n",
    "Now I can combine the DETE and TAFE datasets together so they can be analyzed as a single dataset. First, I will create an \"Institute\" column that contains the name of the institute (either \"DETE\" or \"TAFE\") so I can distinguish between the two datasets if necessary."
   ]
  },
  {
   "cell_type": "code",
   "execution_count": 68,
   "metadata": {
    "scrolled": true
   },
   "outputs": [
    {
     "name": "stderr",
     "output_type": "stream",
     "text": [
      "/opt/anaconda3/lib/python3.7/site-packages/ipykernel_launcher.py:4: FutureWarning: Sorting because non-concatenation axis is not aligned. A future version\n",
      "of pandas will change to not sort by default.\n",
      "\n",
      "To accept the future behavior, pass 'sort=False'.\n",
      "\n",
      "To retain the current behavior and silence the warning, pass 'sort=True'.\n",
      "\n",
      "  after removing the cwd from sys.path.\n"
     ]
    },
    {
     "data": {
      "text/html": [
       "<div>\n",
       "<style scoped>\n",
       "    .dataframe tbody tr th:only-of-type {\n",
       "        vertical-align: middle;\n",
       "    }\n",
       "\n",
       "    .dataframe tbody tr th {\n",
       "        vertical-align: top;\n",
       "    }\n",
       "\n",
       "    .dataframe thead th {\n",
       "        text-align: right;\n",
       "    }\n",
       "</style>\n",
       "<table border=\"1\" class=\"dataframe\">\n",
       "  <thead>\n",
       "    <tr style=\"text-align: right;\">\n",
       "      <th></th>\n",
       "      <th>Age</th>\n",
       "      <th>Dissatisfaction</th>\n",
       "      <th>Employment Status</th>\n",
       "      <th>Gender</th>\n",
       "      <th>Institute</th>\n",
       "      <th>Institute Tenure</th>\n",
       "      <th>Position</th>\n",
       "      <th>Reasons for Leaving</th>\n",
       "    </tr>\n",
       "  </thead>\n",
       "  <tbody>\n",
       "    <tr>\n",
       "      <td>0</td>\n",
       "      <td>36-40</td>\n",
       "      <td>False</td>\n",
       "      <td>Full-time</td>\n",
       "      <td>Female</td>\n",
       "      <td>DETE</td>\n",
       "      <td>7-10</td>\n",
       "      <td>Teacher / TA</td>\n",
       "      <td>Career Move to Private Sector</td>\n",
       "    </tr>\n",
       "    <tr>\n",
       "      <td>1</td>\n",
       "      <td>41-45</td>\n",
       "      <td>True</td>\n",
       "      <td>Full-time</td>\n",
       "      <td>Female</td>\n",
       "      <td>DETE</td>\n",
       "      <td>11-20</td>\n",
       "      <td>Officer</td>\n",
       "      <td>Career Move to Private Sector, Dissatisfaction...</td>\n",
       "    </tr>\n",
       "    <tr>\n",
       "      <td>2</td>\n",
       "      <td>31-35</td>\n",
       "      <td>False</td>\n",
       "      <td>Full-time</td>\n",
       "      <td>Female</td>\n",
       "      <td>DETE</td>\n",
       "      <td>3-4</td>\n",
       "      <td>Teacher / TA</td>\n",
       "      <td>Career Move to Private Sector</td>\n",
       "    </tr>\n",
       "    <tr>\n",
       "      <td>3</td>\n",
       "      <td>46-50</td>\n",
       "      <td>True</td>\n",
       "      <td>Part-time</td>\n",
       "      <td>Female</td>\n",
       "      <td>DETE</td>\n",
       "      <td>11-20</td>\n",
       "      <td>Teacher / TA</td>\n",
       "      <td>Dissatisfaction, Interpersonal Conflict</td>\n",
       "    </tr>\n",
       "    <tr>\n",
       "      <td>4</td>\n",
       "      <td>31-35</td>\n",
       "      <td>False</td>\n",
       "      <td>Full-time</td>\n",
       "      <td>Male</td>\n",
       "      <td>DETE</td>\n",
       "      <td>3-4</td>\n",
       "      <td>Teacher / TA</td>\n",
       "      <td>Maternal/Family, Relocation</td>\n",
       "    </tr>\n",
       "  </tbody>\n",
       "</table>\n",
       "</div>"
      ],
      "text/plain": [
       "     Age  Dissatisfaction Employment Status  Gender Institute  \\\n",
       "0  36-40            False         Full-time  Female      DETE   \n",
       "1  41-45             True         Full-time  Female      DETE   \n",
       "2  31-35            False         Full-time  Female      DETE   \n",
       "3  46-50             True         Part-time  Female      DETE   \n",
       "4  31-35            False         Full-time    Male      DETE   \n",
       "\n",
       "  Institute Tenure      Position  \\\n",
       "0             7-10  Teacher / TA   \n",
       "1            11-20       Officer   \n",
       "2              3-4  Teacher / TA   \n",
       "3            11-20  Teacher / TA   \n",
       "4              3-4  Teacher / TA   \n",
       "\n",
       "                                 Reasons for Leaving  \n",
       "0                      Career Move to Private Sector  \n",
       "1  Career Move to Private Sector, Dissatisfaction...  \n",
       "2                      Career Move to Private Sector  \n",
       "3            Dissatisfaction, Interpersonal Conflict  \n",
       "4                        Maternal/Family, Relocation  "
      ]
     },
     "execution_count": 68,
     "metadata": {},
     "output_type": "execute_result"
    }
   ],
   "source": [
    "# Combining the dataframes\n",
    "dete_resignations[\"Institute\"] = \"DETE\"\n",
    "tafe_resignations[\"Institute\"] = \"TAFE\"\n",
    "combined_resignations = pd.concat([dete_resignations, tafe_resignations], ignore_index=True)\n",
    "combined_resignations.head()"
   ]
  },
  {
   "cell_type": "markdown",
   "metadata": {},
   "source": [
    "Next, I will save the combined_resignations dataset to a file so it can be referenced in the next section, which will be data cleaning."
   ]
  },
  {
   "cell_type": "code",
   "execution_count": 69,
   "metadata": {},
   "outputs": [],
   "source": [
    "combined_resignations.to_csv('combined_resignations.csv', index=False)"
   ]
  }
 ],
 "metadata": {
  "kernelspec": {
   "display_name": "Python 3",
   "language": "python",
   "name": "python3"
  },
  "language_info": {
   "codemirror_mode": {
    "name": "ipython",
    "version": 3
   },
   "file_extension": ".py",
   "mimetype": "text/x-python",
   "name": "python",
   "nbconvert_exporter": "python",
   "pygments_lexer": "ipython3",
   "version": "3.7.4"
  }
 },
 "nbformat": 4,
 "nbformat_minor": 2
}
