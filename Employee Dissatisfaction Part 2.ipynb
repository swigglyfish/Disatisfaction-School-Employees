{
 "cells": [
  {
   "cell_type": "markdown",
   "metadata": {},
   "source": [
    "# Dissatisfaction Levels of Former School Employees - Part 2\n",
    "\n",
    "In this project, I will be analyzing the combined_resignations dataset that I created in Part 1 of this project. I will compare most of the columns in the dataset, including Age, Employment Status, Gender, Institute, Position, and Institute Tenure, to the Dissatisfaction column in order to determine if these six factors affect dissatisfaction levels amongst employees.\n",
    "\n",
    "Through my analysis, I hypothesize I will find the following conclusions:\n",
    "- As a person ages, they will become less likely to resign due to dissatisfaction.\n",
    "    - Older people are more likley to have served a long tenure and thus less likely to resign due to being dissatisfied.\n",
    "    - Older people are more likely to wait until they reach retirement.\n",
    "- I hypothesize that part-time workers are less likely to leave due to dissatisfaction than full-time workers. Similarly, temporary workers are less likely to leave than are permenant workers are.\n",
    "    - Part-time workers work fewer hours and thus are less stressed about their jobs as full-time workers are.\n",
    "    - Temporary workers are more likely to wait until their employment ends.\n",
    "- Males are more likely to leave due to dissatisfaction than women because statistically speaking men are less agreeable than women and thus less likely to put up with a job they despise.\n",
    "- The longer the tenure, the less likely the employee is to leave due to dissatisfaction.\n",
    "    - If they were dissatisfied, they likely wouldn't have worked for the district for such a long time.\n",
    "    - Longer tenure implies that they are older and thus more likely to wait until retirement to leave.\n",
    "\n",
    "First, I will import the appropriate modules and read in the combined_resignations dataset."
   ]
  },
  {
   "cell_type": "code",
   "execution_count": 1,
   "metadata": {},
   "outputs": [],
   "source": [
    "import pandas as pd\n",
    "import numpy as np\n",
    "import matplotlib.pyplot as plt\n",
    "\n",
    "combined_resignations = pd.read_csv(\"combined_resignations.csv\", encoding=\"cp1252\")"
   ]
  },
  {
   "cell_type": "markdown",
   "metadata": {},
   "source": [
    "## 1. Functions to Assist in Analyzing and Visualizing the Data\n",
    "\n",
    "I will create a series of functions that will assist me in my analysis:\n",
    "- percent_dissatisfied = will show the percentage of dissatisfied resignees for all possible values within a given column.\n",
    "- autolabel = will create a text label for each bar within a bar chart displaying the percentage of resignees who are dissatisfied in the value that bar represents. \n",
    "- dissatisfied_dictionary = creates a dictionary showing the percentage of dissatisfied resignees for all possible values within a given column.\n",
    "- dissatisfied_chart = creates a bar chart indicating the percentage of dissatisfied resignees for all possible values within a given column."
   ]
  },
  {
   "cell_type": "markdown",
   "metadata": {},
   "source": [
    "### a) Percent Dissatisfied\n",
    "\n",
    "The percent_dissatisfied function will do the following:\n",
    "- Take in a dataset and a column name (the dependent variable)\n",
    "- Create a list of all possible values for that given dependent variable\n",
    "- Find the percentage of dissatisfied resignees who left due to dissatisfaction for all possible values\n",
    "    1. Find the total number of resignees for each given value\n",
    "    2. Find the total number of resignees for each given value who were dissatisfied\n",
    "    3. Find the percentage of dissatisfied resignees using 1) and 2)\n",
    "- Sort all possible values from highest dissatisfication percentage to lowest dissatisfaction percentage\n",
    "- Return a pandas dataframe displaying this percentage, as well as the following:\n",
    "    1. Number of dissatisfied resignees who left due to dissatisfaction for each possible value\n",
    "    2. Total number of instances of each possible value"
   ]
  },
  {
   "cell_type": "code",
   "execution_count": 2,
   "metadata": {},
   "outputs": [],
   "source": [
    "def percent_dissatisfied(data, depend_var):\n",
    "    percentages = []\n",
    "    percentages_sorted = []\n",
    "    \n",
    "    unique_depend = data[depend_var].unique() # All possible values for a given column\n",
    "    \n",
    "    # Finds the percentage of all possible values within a column that are dissatisfied\n",
    "    for value in unique_depend:\n",
    "        if type(value) == str and value != \"None\": # Ensures the value is not nan or None\n",
    "            total = len(data.loc[data[depend_var] == value])\n",
    "            sub = len(data.loc[data[\"Dissatisfaction\"] == True][data[depend_var] == value])\n",
    "            percent = round((sub * 100) / total, 2)\n",
    "            percentages.append([percent, value, sub, total])\n",
    "    \n",
    "    # Sorts from highest percentage dissatisfied to lowest percentage dissatisfied\n",
    "    percentages = sorted(percentages, reverse = True)\n",
    "        \n",
    "    for per in percentages:\n",
    "        if per[0] > 0:\n",
    "            percentages_sorted.append([per[1], per[0], per[2], per[3]])\n",
    "    \n",
    "    # Creates another row in the dataset indicating the total (will be the sum of all the other rows)\n",
    "    num_total = len(data.loc[data[depend_var].notnull()])\n",
    "    num_dis = len(data.loc[data[\"Dissatisfaction\"] == True][data[depend_var].notnull()])\n",
    "    per_dis = round((num_dis * 100) / num_total, 2)\n",
    "    percentages_sorted.append([\"Total\", per_dis, num_dis, num_total])\n",
    "        \n",
    "    return pd.DataFrame.from_records(percentages_sorted, columns=[str(depend_var), \"Dissatisfaction\", \"Number Dissatisfied\", \"Total\"])\n"
   ]
  },
  {
   "cell_type": "markdown",
   "metadata": {},
   "source": [
    "### b) Auto Label\n",
    "\n",
    "This function is fairly self-explanatory. For every bar in a given bar chart, it will place the value of that bar slightly above the bar."
   ]
  },
  {
   "cell_type": "code",
   "execution_count": 3,
   "metadata": {},
   "outputs": [],
   "source": [
    "def autolabel(bars):\n",
    "    \"\"\"Attach a text label above each bar in *rects*, displaying its height.\"\"\"\n",
    "    for bar in bars:\n",
    "        height = bar.get_height()\n",
    "        plt.annotate('{}'.format(round(height, 2)),\n",
    "                    xy=(bar.get_x() + bar.get_width() / 2, height), # XY position for placing text\n",
    "                    xytext=(0, 3),  # Places percentage 3 points vertically\n",
    "                    textcoords=\"offset points\",\n",
    "                    ha='center', va='bottom',\n",
    "                    fontsize=12)"
   ]
  },
  {
   "cell_type": "markdown",
   "metadata": {},
   "source": [
    "### c) Dissatisfied Dictionary\n",
    "\n",
    "This function will basically do the same thing as the percent_dissatisfied function except it will return an unsorted dictionary rather than a sorted pandas dataframe. This will make it easier to create a nice looking bar chart."
   ]
  },
  {
   "cell_type": "code",
   "execution_count": 4,
   "metadata": {},
   "outputs": [],
   "source": [
    "def dissatisfied_dictionary(data, depend_var):\n",
    "    dissatisfied = {} # Unsorted dictionary will make better bar chart than sorted pandas dataframe\n",
    "    \n",
    "    col_vals = list(data[depend_var].unique()) # List of all values within the depend_var col\n",
    "    col_vals = [x for x in col_vals if str(x) != 'nan'] # Gets rid of nan values\n",
    "    col_vals = sorted(col_vals)\n",
    "    \n",
    "    # Finds the percentage of all possible values within a column that are dissatisfied\n",
    "    for value in col_vals:\n",
    "        len_val = len(data.loc[data[depend_var] == value])\n",
    "        data_indep = data.loc[data[\"Dissatisfaction\"] == True]\n",
    "        len_val_indep = len(data_indep.loc[data_indep[depend_var] == value])\n",
    "        decimal = len_val_indep / len_val\n",
    "        percent = round(decimal * 100, 2)\n",
    "        dissatisfied[value] = percent\n",
    "        \n",
    "    num_total = len(data.loc[data[depend_var].notnull()])\n",
    "    num_dis = len(data.loc[data[\"Dissatisfaction\"] == True][data[depend_var].notnull()])\n",
    "    per_dis = round((num_dis * 100) / num_total, 2)\n",
    "    dissatisfied[\"Total\"] = per_dis\n",
    "        \n",
    "    return dissatisfied"
   ]
  },
  {
   "cell_type": "markdown",
   "metadata": {},
   "source": [
    "### d) Dissatisfied Chart\n",
    "\n",
    "This function will simply take the dissatisfied_dictionary and create use it to create a bar chart. It will also use the auto_labels function to place the value of each bar above the bars themselves."
   ]
  },
  {
   "cell_type": "code",
   "execution_count": 5,
   "metadata": {},
   "outputs": [],
   "source": [
    "def dissatisfied_chart(data, depend_var, width=12):\n",
    "    \n",
    "    # Uses dissatisfied_dictionary to get all possible values\n",
    "    dictionary = dissatisfied_dictionary(data, depend_var)\n",
    "    \n",
    "    # Creates a plot for a bar chart (width is adjustable)\n",
    "    fig, ax = plt.subplots(figsize=(width, 6))\n",
    "    values = plt.bar(dictionary.keys(), dictionary.values(), color=\"DarkGreen\")\n",
    "                \n",
    "    plt.ylabel(\"Percent Dissatisfied\", fontsize=14)\n",
    "    \n",
    "    # Leaves room for the auto label created above each bar chart\n",
    "    maxim = max(dictionary.values())\n",
    "    plt.ylim(0, maxim*1.1)\n",
    "    \n",
    "    # Makes the fontsize larger for both the x and y ticks\n",
    "    plt.rcParams['xtick.labelsize']=12    \n",
    "    plt.rcParams['ytick.labelsize']=12\n",
    "    \n",
    "    plt.title(\"Dissatisfaction Levels by {}\".format(depend_var), fontsize=18, y=1.01)\n",
    "    \n",
    "    plt.tick_params(axis=\"both\", which=\"both\", top=False, bottom=False, labelbottom=True)\n",
    "\n",
    "    autolabel(values) # Places values over each of the bars\n",
    "    \n",
    "    plt.show()"
   ]
  },
  {
   "cell_type": "markdown",
   "metadata": {},
   "source": [
    "## 2. How Dissatisfaction Levels Vary by Demographic Factors\n",
    "\n",
    "In this section, I will use the functions created above to visualize the relationship between dissatisfaction levels and demographic factors, including age, employment status, gender, institute, position, and institute tenure."
   ]
  },
  {
   "cell_type": "markdown",
   "metadata": {},
   "source": [
    "### a) Dissatisfaction vs. Age\n",
    "\n",
    "First, I will analyze how the age of the resignee affects disssatisfaction levels. In the introduction, I hypothesized that older employees were less likely to resign due to dissatisfaction."
   ]
  },
  {
   "cell_type": "code",
   "execution_count": 6,
   "metadata": {},
   "outputs": [
    {
     "name": "stderr",
     "output_type": "stream",
     "text": [
      "/opt/anaconda3/lib/python3.7/site-packages/ipykernel_launcher.py:11: UserWarning: Boolean Series key will be reindexed to match DataFrame index.\n",
      "  # This is added back by InteractiveShellApp.init_path()\n",
      "/opt/anaconda3/lib/python3.7/site-packages/ipykernel_launcher.py:24: UserWarning: Boolean Series key will be reindexed to match DataFrame index.\n"
     ]
    },
    {
     "data": {
      "text/html": [
       "<div>\n",
       "<style scoped>\n",
       "    .dataframe tbody tr th:only-of-type {\n",
       "        vertical-align: middle;\n",
       "    }\n",
       "\n",
       "    .dataframe tbody tr th {\n",
       "        vertical-align: top;\n",
       "    }\n",
       "\n",
       "    .dataframe thead th {\n",
       "        text-align: right;\n",
       "    }\n",
       "</style>\n",
       "<table border=\"1\" class=\"dataframe\">\n",
       "  <thead>\n",
       "    <tr style=\"text-align: right;\">\n",
       "      <th></th>\n",
       "      <th>Age</th>\n",
       "      <th>Dissatisfaction</th>\n",
       "      <th>Number Dissatisfied</th>\n",
       "      <th>Total</th>\n",
       "    </tr>\n",
       "  </thead>\n",
       "  <tbody>\n",
       "    <tr>\n",
       "      <td>0</td>\n",
       "      <td>56+</td>\n",
       "      <td>42.31</td>\n",
       "      <td>33</td>\n",
       "      <td>78</td>\n",
       "    </tr>\n",
       "    <tr>\n",
       "      <td>1</td>\n",
       "      <td>51-55</td>\n",
       "      <td>42.25</td>\n",
       "      <td>30</td>\n",
       "      <td>71</td>\n",
       "    </tr>\n",
       "    <tr>\n",
       "      <td>2</td>\n",
       "      <td>26-30</td>\n",
       "      <td>41.79</td>\n",
       "      <td>28</td>\n",
       "      <td>67</td>\n",
       "    </tr>\n",
       "    <tr>\n",
       "      <td>3</td>\n",
       "      <td>46-50</td>\n",
       "      <td>38.27</td>\n",
       "      <td>31</td>\n",
       "      <td>81</td>\n",
       "    </tr>\n",
       "    <tr>\n",
       "      <td>4</td>\n",
       "      <td>31-35</td>\n",
       "      <td>37.70</td>\n",
       "      <td>23</td>\n",
       "      <td>61</td>\n",
       "    </tr>\n",
       "    <tr>\n",
       "      <td>5</td>\n",
       "      <td>41-45</td>\n",
       "      <td>37.63</td>\n",
       "      <td>35</td>\n",
       "      <td>93</td>\n",
       "    </tr>\n",
       "    <tr>\n",
       "      <td>6</td>\n",
       "      <td>36-40</td>\n",
       "      <td>34.25</td>\n",
       "      <td>25</td>\n",
       "      <td>73</td>\n",
       "    </tr>\n",
       "    <tr>\n",
       "      <td>7</td>\n",
       "      <td>21-25</td>\n",
       "      <td>30.65</td>\n",
       "      <td>19</td>\n",
       "      <td>62</td>\n",
       "    </tr>\n",
       "    <tr>\n",
       "      <td>8</td>\n",
       "      <td>18-20</td>\n",
       "      <td>20.00</td>\n",
       "      <td>2</td>\n",
       "      <td>10</td>\n",
       "    </tr>\n",
       "    <tr>\n",
       "      <td>9</td>\n",
       "      <td>Total</td>\n",
       "      <td>37.92</td>\n",
       "      <td>226</td>\n",
       "      <td>596</td>\n",
       "    </tr>\n",
       "  </tbody>\n",
       "</table>\n",
       "</div>"
      ],
      "text/plain": [
       "     Age  Dissatisfaction  Number Dissatisfied  Total\n",
       "0    56+            42.31                   33     78\n",
       "1  51-55            42.25                   30     71\n",
       "2  26-30            41.79                   28     67\n",
       "3  46-50            38.27                   31     81\n",
       "4  31-35            37.70                   23     61\n",
       "5  41-45            37.63                   35     93\n",
       "6  36-40            34.25                   25     73\n",
       "7  21-25            30.65                   19     62\n",
       "8  18-20            20.00                    2     10\n",
       "9  Total            37.92                  226    596"
      ]
     },
     "execution_count": 6,
     "metadata": {},
     "output_type": "execute_result"
    }
   ],
   "source": [
    "age_dissatisfied = percent_dissatisfied(combined_resignations, \"Age\")\n",
    "age_dissatisfied"
   ]
  },
  {
   "cell_type": "code",
   "execution_count": 7,
   "metadata": {},
   "outputs": [
    {
     "name": "stderr",
     "output_type": "stream",
     "text": [
      "/opt/anaconda3/lib/python3.7/site-packages/ipykernel_launcher.py:18: UserWarning: Boolean Series key will be reindexed to match DataFrame index.\n"
     ]
    },
    {
     "data": {
      "image/png": "[encoded data removed]",
      "text/plain": [
       "<Figure size 864x432 with 1 Axes>"
      ]
     },
     "metadata": {
      "needs_background": "light"
     },
     "output_type": "display_data"
    }
   ],
   "source": [
    "dissatisfied_chart(combined_resignations, \"Age\")"
   ]
  },
  {
   "cell_type": "markdown",
   "metadata": {},
   "source": [
    "My original hypothesis was completely incorrect. There is a postive correlation betwen dissatisfaction levels and age. The least likely resignees to be dissatisfied are in the \"18-20\" age group and the most likely to be dissatisfied are in the \"56+\" group. \n",
    "\n",
    "An alternative hypothesis is that younger employees are still developing their careers and thus are more likely to leave because they found a better alternative or moved to a new place than older employees are."
   ]
  },
  {
   "cell_type": "markdown",
   "metadata": {},
   "source": [
    "### b) Dissatisfaction vs. Employment Status\n",
    "\n",
    "Next, I will analyze how the employment status affects dissatisfaction levels. Note that I originally hypothesized that part-time employees would be likely to leave due to dissatisfaction than full-time employees would and that temporary employees would be less likely to leave due to dissatisfaction than permenant employees."
   ]
  },
  {
   "cell_type": "code",
   "execution_count": 8,
   "metadata": {
    "scrolled": true
   },
   "outputs": [
    {
     "name": "stderr",
     "output_type": "stream",
     "text": [
      "/opt/anaconda3/lib/python3.7/site-packages/ipykernel_launcher.py:11: UserWarning: Boolean Series key will be reindexed to match DataFrame index.\n",
      "  # This is added back by InteractiveShellApp.init_path()\n",
      "/opt/anaconda3/lib/python3.7/site-packages/ipykernel_launcher.py:24: UserWarning: Boolean Series key will be reindexed to match DataFrame index.\n"
     ]
    },
    {
     "data": {
      "text/html": [
       "<div>\n",
       "<style scoped>\n",
       "    .dataframe tbody tr th:only-of-type {\n",
       "        vertical-align: middle;\n",
       "    }\n",
       "\n",
       "    .dataframe tbody tr th {\n",
       "        vertical-align: top;\n",
       "    }\n",
       "\n",
       "    .dataframe thead th {\n",
       "        text-align: right;\n",
       "    }\n",
       "</style>\n",
       "<table border=\"1\" class=\"dataframe\">\n",
       "  <thead>\n",
       "    <tr style=\"text-align: right;\">\n",
       "      <th></th>\n",
       "      <th>Employment Status</th>\n",
       "      <th>Dissatisfaction</th>\n",
       "      <th>Number Dissatisfied</th>\n",
       "      <th>Total</th>\n",
       "    </tr>\n",
       "  </thead>\n",
       "  <tbody>\n",
       "    <tr>\n",
       "      <td>0</td>\n",
       "      <td>Full-time</td>\n",
       "      <td>46.09</td>\n",
       "      <td>118</td>\n",
       "      <td>256</td>\n",
       "    </tr>\n",
       "    <tr>\n",
       "      <td>1</td>\n",
       "      <td>Part-time</td>\n",
       "      <td>42.67</td>\n",
       "      <td>64</td>\n",
       "      <td>150</td>\n",
       "    </tr>\n",
       "    <tr>\n",
       "      <td>2</td>\n",
       "      <td>Temp (Part)</td>\n",
       "      <td>25.83</td>\n",
       "      <td>31</td>\n",
       "      <td>120</td>\n",
       "    </tr>\n",
       "    <tr>\n",
       "      <td>3</td>\n",
       "      <td>Casual</td>\n",
       "      <td>17.65</td>\n",
       "      <td>6</td>\n",
       "      <td>34</td>\n",
       "    </tr>\n",
       "    <tr>\n",
       "      <td>4</td>\n",
       "      <td>Temp (Full)</td>\n",
       "      <td>16.22</td>\n",
       "      <td>6</td>\n",
       "      <td>37</td>\n",
       "    </tr>\n",
       "    <tr>\n",
       "      <td>5</td>\n",
       "      <td>Total</td>\n",
       "      <td>37.69</td>\n",
       "      <td>225</td>\n",
       "      <td>597</td>\n",
       "    </tr>\n",
       "  </tbody>\n",
       "</table>\n",
       "</div>"
      ],
      "text/plain": [
       "  Employment Status  Dissatisfaction  Number Dissatisfied  Total\n",
       "0         Full-time            46.09                  118    256\n",
       "1         Part-time            42.67                   64    150\n",
       "2       Temp (Part)            25.83                   31    120\n",
       "3            Casual            17.65                    6     34\n",
       "4       Temp (Full)            16.22                    6     37\n",
       "5             Total            37.69                  225    597"
      ]
     },
     "execution_count": 8,
     "metadata": {},
     "output_type": "execute_result"
    }
   ],
   "source": [
    "employment_dissatisfied = percent_dissatisfied(combined_resignations, \"Employment Status\")\n",
    "employment_dissatisfied"
   ]
  },
  {
   "cell_type": "code",
   "execution_count": 9,
   "metadata": {},
   "outputs": [
    {
     "name": "stderr",
     "output_type": "stream",
     "text": [
      "/opt/anaconda3/lib/python3.7/site-packages/ipykernel_launcher.py:18: UserWarning: Boolean Series key will be reindexed to match DataFrame index.\n"
     ]
    },
    {
     "data": {
      "image/png": "[encoded data removed]",
      "text/plain": [
       "<Figure size 720x432 with 1 Axes>"
      ]
     },
     "metadata": {
      "needs_background": "light"
     },
     "output_type": "display_data"
    }
   ],
   "source": [
    "dissatisfied_chart(combined_resignations, \"Employment Status\", 10)"
   ]
  },
  {
   "cell_type": "markdown",
   "metadata": {},
   "source": [
    "Interestingly, there is not a significant difference between permenant full-time and part-time employees in terms of dissatisfaction levels. And while temporary employees are much less likely to leave due to dissatisfaction than permenant employees are, part-time temporary employees are more dissatisfied than full-time temporary employees.\n",
    "\n",
    "An alternative hypothesis is that part-time temporary employees are struggling to make ends meet because they aren't able to get enough hours, which is why they are less satisfied than full-time temporary employees."
   ]
  },
  {
   "cell_type": "markdown",
   "metadata": {},
   "source": [
    "### c) Dissatisfaction vs. Gender\n",
    "\n",
    "Next, I will analyze how gender affects dissatisfaction levels. I originally hypothesized that men would be more likely to leave due to disatisfaction than women."
   ]
  },
  {
   "cell_type": "code",
   "execution_count": 10,
   "metadata": {},
   "outputs": [
    {
     "name": "stderr",
     "output_type": "stream",
     "text": [
      "/opt/anaconda3/lib/python3.7/site-packages/ipykernel_launcher.py:11: UserWarning: Boolean Series key will be reindexed to match DataFrame index.\n",
      "  # This is added back by InteractiveShellApp.init_path()\n",
      "/opt/anaconda3/lib/python3.7/site-packages/ipykernel_launcher.py:24: UserWarning: Boolean Series key will be reindexed to match DataFrame index.\n"
     ]
    },
    {
     "data": {
      "text/html": [
       "<div>\n",
       "<style scoped>\n",
       "    .dataframe tbody tr th:only-of-type {\n",
       "        vertical-align: middle;\n",
       "    }\n",
       "\n",
       "    .dataframe tbody tr th {\n",
       "        vertical-align: top;\n",
       "    }\n",
       "\n",
       "    .dataframe thead th {\n",
       "        text-align: right;\n",
       "    }\n",
       "</style>\n",
       "<table border=\"1\" class=\"dataframe\">\n",
       "  <thead>\n",
       "    <tr style=\"text-align: right;\">\n",
       "      <th></th>\n",
       "      <th>Gender</th>\n",
       "      <th>Dissatisfaction</th>\n",
       "      <th>Number Dissatisfied</th>\n",
       "      <th>Total</th>\n",
       "    </tr>\n",
       "  </thead>\n",
       "  <tbody>\n",
       "    <tr>\n",
       "      <td>0</td>\n",
       "      <td>Male</td>\n",
       "      <td>39.88</td>\n",
       "      <td>67</td>\n",
       "      <td>168</td>\n",
       "    </tr>\n",
       "    <tr>\n",
       "      <td>1</td>\n",
       "      <td>Female</td>\n",
       "      <td>37.03</td>\n",
       "      <td>157</td>\n",
       "      <td>424</td>\n",
       "    </tr>\n",
       "    <tr>\n",
       "      <td>2</td>\n",
       "      <td>Total</td>\n",
       "      <td>37.84</td>\n",
       "      <td>224</td>\n",
       "      <td>592</td>\n",
       "    </tr>\n",
       "  </tbody>\n",
       "</table>\n",
       "</div>"
      ],
      "text/plain": [
       "   Gender  Dissatisfaction  Number Dissatisfied  Total\n",
       "0    Male            39.88                   67    168\n",
       "1  Female            37.03                  157    424\n",
       "2   Total            37.84                  224    592"
      ]
     },
     "execution_count": 10,
     "metadata": {},
     "output_type": "execute_result"
    }
   ],
   "source": [
    "gender_dissatisfied = percent_dissatisfied(combined_resignations, \"Gender\")\n",
    "gender_dissatisfied"
   ]
  },
  {
   "cell_type": "code",
   "execution_count": 11,
   "metadata": {},
   "outputs": [
    {
     "name": "stderr",
     "output_type": "stream",
     "text": [
      "/opt/anaconda3/lib/python3.7/site-packages/ipykernel_launcher.py:18: UserWarning: Boolean Series key will be reindexed to match DataFrame index.\n"
     ]
    },
    {
     "data": {
      "image/png": "[encoded data removed]",
      "text/plain": [
       "<Figure size 432x432 with 1 Axes>"
      ]
     },
     "metadata": {
      "needs_background": "light"
     },
     "output_type": "display_data"
    }
   ],
   "source": [
    "dissatisfied_chart(combined_resignations, \"Gender\", 6)"
   ]
  },
  {
   "cell_type": "markdown",
   "metadata": {},
   "source": [
    "Men are slightly more likely to leave due to dissatisfaction than women, but the difference is not significant. What's more noteworthy is that there are almost three times as many women as there are men."
   ]
  },
  {
   "cell_type": "markdown",
   "metadata": {},
   "source": [
    "### d) Dissatisfaction vs. Institute\n",
    "\n",
    "Next, I will analyze how institute affects dissatisfaction levels. Note that I did not create a hypothesis on this factor as I do not know much information about each individual institute."
   ]
  },
  {
   "cell_type": "code",
   "execution_count": 12,
   "metadata": {},
   "outputs": [
    {
     "name": "stderr",
     "output_type": "stream",
     "text": [
      "/opt/anaconda3/lib/python3.7/site-packages/ipykernel_launcher.py:11: UserWarning: Boolean Series key will be reindexed to match DataFrame index.\n",
      "  # This is added back by InteractiveShellApp.init_path()\n",
      "/opt/anaconda3/lib/python3.7/site-packages/ipykernel_launcher.py:24: UserWarning: Boolean Series key will be reindexed to match DataFrame index.\n"
     ]
    },
    {
     "data": {
      "text/html": [
       "<div>\n",
       "<style scoped>\n",
       "    .dataframe tbody tr th:only-of-type {\n",
       "        vertical-align: middle;\n",
       "    }\n",
       "\n",
       "    .dataframe tbody tr th {\n",
       "        vertical-align: top;\n",
       "    }\n",
       "\n",
       "    .dataframe thead th {\n",
       "        text-align: right;\n",
       "    }\n",
       "</style>\n",
       "<table border=\"1\" class=\"dataframe\">\n",
       "  <thead>\n",
       "    <tr style=\"text-align: right;\">\n",
       "      <th></th>\n",
       "      <th>Institute</th>\n",
       "      <th>Dissatisfaction</th>\n",
       "      <th>Number Dissatisfied</th>\n",
       "      <th>Total</th>\n",
       "    </tr>\n",
       "  </thead>\n",
       "  <tbody>\n",
       "    <tr>\n",
       "      <td>0</td>\n",
       "      <td>DETE</td>\n",
       "      <td>47.91</td>\n",
       "      <td>149</td>\n",
       "      <td>311</td>\n",
       "    </tr>\n",
       "    <tr>\n",
       "      <td>1</td>\n",
       "      <td>TAFE</td>\n",
       "      <td>26.76</td>\n",
       "      <td>91</td>\n",
       "      <td>340</td>\n",
       "    </tr>\n",
       "    <tr>\n",
       "      <td>2</td>\n",
       "      <td>Total</td>\n",
       "      <td>36.87</td>\n",
       "      <td>240</td>\n",
       "      <td>651</td>\n",
       "    </tr>\n",
       "  </tbody>\n",
       "</table>\n",
       "</div>"
      ],
      "text/plain": [
       "  Institute  Dissatisfaction  Number Dissatisfied  Total\n",
       "0      DETE            47.91                  149    311\n",
       "1      TAFE            26.76                   91    340\n",
       "2     Total            36.87                  240    651"
      ]
     },
     "execution_count": 12,
     "metadata": {},
     "output_type": "execute_result"
    }
   ],
   "source": [
    "institute_dissatisfied = percent_dissatisfied(combined_resignations, \"Institute\")\n",
    "institute_dissatisfied"
   ]
  },
  {
   "cell_type": "code",
   "execution_count": 13,
   "metadata": {},
   "outputs": [
    {
     "name": "stderr",
     "output_type": "stream",
     "text": [
      "/opt/anaconda3/lib/python3.7/site-packages/ipykernel_launcher.py:18: UserWarning: Boolean Series key will be reindexed to match DataFrame index.\n"
     ]
    },
    {
     "data": {
      "image/png": "[encoded data removed]",
      "text/plain": [
       "<Figure size 432x432 with 1 Axes>"
      ]
     },
     "metadata": {
      "needs_background": "light"
     },
     "output_type": "display_data"
    }
   ],
   "source": [
    "dissatisfied_chart(combined_resignations, \"Institute\", 6)"
   ]
  },
  {
   "cell_type": "markdown",
   "metadata": {},
   "source": [
    "Employees at the DETE institute are much more likely to resign due to dissatisfaction than employees at the TAFE institute. Perhaps the TAFE institute is better run and thus employees are less likely to leave due to dissatisfaction. "
   ]
  },
  {
   "cell_type": "markdown",
   "metadata": {},
   "source": [
    "### e) Dissatisfaction vs. Position\n",
    "\n",
    "Next, I will analyze how position affects dissatisfaction levels."
   ]
  },
  {
   "cell_type": "code",
   "execution_count": 14,
   "metadata": {},
   "outputs": [
    {
     "name": "stderr",
     "output_type": "stream",
     "text": [
      "/opt/anaconda3/lib/python3.7/site-packages/ipykernel_launcher.py:11: UserWarning: Boolean Series key will be reindexed to match DataFrame index.\n",
      "  # This is added back by InteractiveShellApp.init_path()\n",
      "/opt/anaconda3/lib/python3.7/site-packages/ipykernel_launcher.py:24: UserWarning: Boolean Series key will be reindexed to match DataFrame index.\n"
     ]
    },
    {
     "data": {
      "text/html": [
       "<div>\n",
       "<style scoped>\n",
       "    .dataframe tbody tr th:only-of-type {\n",
       "        vertical-align: middle;\n",
       "    }\n",
       "\n",
       "    .dataframe tbody tr th {\n",
       "        vertical-align: top;\n",
       "    }\n",
       "\n",
       "    .dataframe thead th {\n",
       "        text-align: right;\n",
       "    }\n",
       "</style>\n",
       "<table border=\"1\" class=\"dataframe\">\n",
       "  <thead>\n",
       "    <tr style=\"text-align: right;\">\n",
       "      <th></th>\n",
       "      <th>Position</th>\n",
       "      <th>Dissatisfaction</th>\n",
       "      <th>Number Dissatisfied</th>\n",
       "      <th>Total</th>\n",
       "    </tr>\n",
       "  </thead>\n",
       "  <tbody>\n",
       "    <tr>\n",
       "      <td>0</td>\n",
       "      <td>Teacher / TA</td>\n",
       "      <td>44.25</td>\n",
       "      <td>127</td>\n",
       "      <td>287</td>\n",
       "    </tr>\n",
       "    <tr>\n",
       "      <td>1</td>\n",
       "      <td>Operations</td>\n",
       "      <td>42.31</td>\n",
       "      <td>22</td>\n",
       "      <td>52</td>\n",
       "    </tr>\n",
       "    <tr>\n",
       "      <td>2</td>\n",
       "      <td>Administration</td>\n",
       "      <td>29.85</td>\n",
       "      <td>60</td>\n",
       "      <td>201</td>\n",
       "    </tr>\n",
       "    <tr>\n",
       "      <td>3</td>\n",
       "      <td>Other</td>\n",
       "      <td>27.27</td>\n",
       "      <td>3</td>\n",
       "      <td>11</td>\n",
       "    </tr>\n",
       "    <tr>\n",
       "      <td>4</td>\n",
       "      <td>Officer</td>\n",
       "      <td>25.53</td>\n",
       "      <td>12</td>\n",
       "      <td>47</td>\n",
       "    </tr>\n",
       "    <tr>\n",
       "      <td>5</td>\n",
       "      <td>Total</td>\n",
       "      <td>37.46</td>\n",
       "      <td>224</td>\n",
       "      <td>598</td>\n",
       "    </tr>\n",
       "  </tbody>\n",
       "</table>\n",
       "</div>"
      ],
      "text/plain": [
       "         Position  Dissatisfaction  Number Dissatisfied  Total\n",
       "0    Teacher / TA            44.25                  127    287\n",
       "1      Operations            42.31                   22     52\n",
       "2  Administration            29.85                   60    201\n",
       "3           Other            27.27                    3     11\n",
       "4         Officer            25.53                   12     47\n",
       "5           Total            37.46                  224    598"
      ]
     },
     "execution_count": 14,
     "metadata": {},
     "output_type": "execute_result"
    }
   ],
   "source": [
    "position_dissatisfied = percent_dissatisfied(combined_resignations, \"Position\")\n",
    "position_dissatisfied"
   ]
  },
  {
   "cell_type": "code",
   "execution_count": 15,
   "metadata": {
    "scrolled": true
   },
   "outputs": [
    {
     "name": "stderr",
     "output_type": "stream",
     "text": [
      "/opt/anaconda3/lib/python3.7/site-packages/ipykernel_launcher.py:18: UserWarning: Boolean Series key will be reindexed to match DataFrame index.\n"
     ]
    },
    {
     "data": {
      "image/png": "[encoded data removed]",
      "text/plain": [
       "<Figure size 720x432 with 1 Axes>"
      ]
     },
     "metadata": {
      "needs_background": "light"
     },
     "output_type": "display_data"
    }
   ],
   "source": [
    "dissatisfied_chart(combined_resignations, \"Position\", 10)"
   ]
  },
  {
   "cell_type": "markdown",
   "metadata": {},
   "source": [
    "Teacher, TA, and Operations are the most likely to leave due to dissatisfaction whereas Administration, Officer, and Other are the least likely. I don't know enough about the positions themselves to make a valid conclusion as to why."
   ]
  },
  {
   "cell_type": "markdown",
   "metadata": {},
   "source": [
    "### f) Dissatisfaction vs. Institute Tenure\n",
    "\n",
    "Finally, I will analyze how tenure affects dissatisfaction levels. I originally hypothesized that longer tenure would be associated with a lower likelihood of leaving due to dissatisfaction."
   ]
  },
  {
   "cell_type": "code",
   "execution_count": 16,
   "metadata": {},
   "outputs": [
    {
     "name": "stderr",
     "output_type": "stream",
     "text": [
      "/opt/anaconda3/lib/python3.7/site-packages/ipykernel_launcher.py:11: UserWarning: Boolean Series key will be reindexed to match DataFrame index.\n",
      "  # This is added back by InteractiveShellApp.init_path()\n",
      "/opt/anaconda3/lib/python3.7/site-packages/ipykernel_launcher.py:24: UserWarning: Boolean Series key will be reindexed to match DataFrame index.\n"
     ]
    },
    {
     "data": {
      "text/html": [
       "<div>\n",
       "<style scoped>\n",
       "    .dataframe tbody tr th:only-of-type {\n",
       "        vertical-align: middle;\n",
       "    }\n",
       "\n",
       "    .dataframe tbody tr th {\n",
       "        vertical-align: top;\n",
       "    }\n",
       "\n",
       "    .dataframe thead th {\n",
       "        text-align: right;\n",
       "    }\n",
       "</style>\n",
       "<table border=\"1\" class=\"dataframe\">\n",
       "  <thead>\n",
       "    <tr style=\"text-align: right;\">\n",
       "      <th></th>\n",
       "      <th>Institute Tenure</th>\n",
       "      <th>Dissatisfaction</th>\n",
       "      <th>Number Dissatisfied</th>\n",
       "      <th>Total</th>\n",
       "    </tr>\n",
       "  </thead>\n",
       "  <tbody>\n",
       "    <tr>\n",
       "      <td>0</td>\n",
       "      <td>21+</td>\n",
       "      <td>58.49</td>\n",
       "      <td>31</td>\n",
       "      <td>53</td>\n",
       "    </tr>\n",
       "    <tr>\n",
       "      <td>1</td>\n",
       "      <td>7-10</td>\n",
       "      <td>51.61</td>\n",
       "      <td>32</td>\n",
       "      <td>62</td>\n",
       "    </tr>\n",
       "    <tr>\n",
       "      <td>2</td>\n",
       "      <td>5-6</td>\n",
       "      <td>42.47</td>\n",
       "      <td>31</td>\n",
       "      <td>73</td>\n",
       "    </tr>\n",
       "    <tr>\n",
       "      <td>3</td>\n",
       "      <td>11-20</td>\n",
       "      <td>42.17</td>\n",
       "      <td>35</td>\n",
       "      <td>83</td>\n",
       "    </tr>\n",
       "    <tr>\n",
       "      <td>4</td>\n",
       "      <td>0-1</td>\n",
       "      <td>32.26</td>\n",
       "      <td>30</td>\n",
       "      <td>93</td>\n",
       "    </tr>\n",
       "    <tr>\n",
       "      <td>5</td>\n",
       "      <td>3-4</td>\n",
       "      <td>28.28</td>\n",
       "      <td>28</td>\n",
       "      <td>99</td>\n",
       "    </tr>\n",
       "    <tr>\n",
       "      <td>6</td>\n",
       "      <td>1-2</td>\n",
       "      <td>27.00</td>\n",
       "      <td>27</td>\n",
       "      <td>100</td>\n",
       "    </tr>\n",
       "    <tr>\n",
       "      <td>7</td>\n",
       "      <td>Total</td>\n",
       "      <td>38.01</td>\n",
       "      <td>214</td>\n",
       "      <td>563</td>\n",
       "    </tr>\n",
       "  </tbody>\n",
       "</table>\n",
       "</div>"
      ],
      "text/plain": [
       "  Institute Tenure  Dissatisfaction  Number Dissatisfied  Total\n",
       "0              21+            58.49                   31     53\n",
       "1             7-10            51.61                   32     62\n",
       "2              5-6            42.47                   31     73\n",
       "3            11-20            42.17                   35     83\n",
       "4              0-1            32.26                   30     93\n",
       "5              3-4            28.28                   28     99\n",
       "6              1-2            27.00                   27    100\n",
       "7            Total            38.01                  214    563"
      ]
     },
     "execution_count": 16,
     "metadata": {},
     "output_type": "execute_result"
    }
   ],
   "source": [
    "years_dissatisfied = percent_dissatisfied(combined_resignations, \"Institute Tenure\")\n",
    "years_dissatisfied"
   ]
  },
  {
   "cell_type": "code",
   "execution_count": 17,
   "metadata": {},
   "outputs": [
    {
     "name": "stderr",
     "output_type": "stream",
     "text": [
      "/opt/anaconda3/lib/python3.7/site-packages/ipykernel_launcher.py:18: UserWarning: Boolean Series key will be reindexed to match DataFrame index.\n"
     ]
    },
    {
     "data": {
      "image/png": "[encoded data removed]",
      "text/plain": [
       "<Figure size 576x432 with 1 Axes>"
      ]
     },
     "metadata": {
      "needs_background": "light"
     },
     "output_type": "display_data"
    }
   ],
   "source": [
    "dissatisfied_chart(combined_resignations, \"Institute Tenure\", 8)"
   ]
  },
  {
   "cell_type": "markdown",
   "metadata": {},
   "source": [
    "Based on the analysis above, the longer an employee has worked at the firm, the more likely they are to resign due to dissatisfaction. An employee who has worked for the institute for over 20 years is highly likely to resign due to dissatisfaction. In contrast, employees who have worked for the institute for less than 5 years are very unlikely to leave due to dissatisfaction.\n",
    "\n",
    "An alternative hypothesis is that employees who have worked for a shorter amount of time are more likely to have left due to promotions or a better job offer, whereas employees who have not worked for a long amount of time are not."
   ]
  },
  {
   "cell_type": "markdown",
   "metadata": {},
   "source": [
    "## 3. Results\n",
    "\n",
    "Based on my analysis, I have come to the following conclusions:\n",
    "- Age is positively correlated with resigning due to dissatisfaction.\n",
    "- Temporary workers are less likely to resign due to dissatisfaction, and part-time temporary workers are more likely to be dissatisfied than full-time temporary workers.\n",
    "- Both men and women are equally likely to resign due to dissatisfaction.\n",
    "- Employees of the TAFE dataset are much less likely to resign due to dissatisfaction than those of the DETE dataset\n",
    "- Administration, Officer, and Other are less likely to resign due to dissatisfaction than Teacher / TA and Operational are\n",
    "- Longer tenure is positively correlated with resigning due to dissatisfaction\n",
    "\n",
    "It is noteworthy to point out one of the major flaws with this study. The TAFE exit survey has much fewer options that indicate dissatisfaction than the DETE exit survey does. Due to the lower number of options, it is possible that fewer dissatisfied employees indicated they were dissatisfied on the TAFE exit survey than they did on the DETE exit survey. This might be one of the reasons as to why the TAFE dataset has much fewer dissatisfied resignees than the DETE exit survey does. Similarly, note that the TAFE dataset has more younger employees and more employees in Administration than the DETE dataset does. This could be part of the reason as to why younger employees and employees in Administration reported lower levels of dissatisfaction."
   ]
  }
 ],
 "metadata": {
  "kernelspec": {
   "display_name": "Python 3",
   "language": "python",
   "name": "python3"
  },
  "language_info": {
   "codemirror_mode": {
    "name": "ipython",
    "version": 3
   },
   "file_extension": ".py",
   "mimetype": "text/x-python",
   "name": "python",
   "nbconvert_exporter": "python",
   "pygments_lexer": "ipython3",
   "version": "3.7.4"
  }
 },
 "nbformat": 4,
 "nbformat_minor": 2
}
